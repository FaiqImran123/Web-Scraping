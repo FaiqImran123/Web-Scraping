{
 "cells": [
  {
   "cell_type": "markdown",
   "metadata": {},
   "source": [
    "### Fetching HTML Contents Using Request Library"
   ]
  },
  {
   "cell_type": "code",
   "execution_count": 1,
   "metadata": {},
   "outputs": [],
   "source": [
    "import requests"
   ]
  },
  {
   "cell_type": "code",
   "execution_count": 3,
   "metadata": {},
   "outputs": [
    {
     "data": {
      "text/plain": [
       "200"
      ]
     },
     "execution_count": 3,
     "metadata": {},
     "output_type": "execute_result"
    }
   ],
   "source": [
    "resp =requests.get(\"https://arifpucit.github.io/bss2/\")\n",
    "# 200 means successfull\n",
    "resp.status_code"
   ]
  },
  {
   "cell_type": "code",
   "execution_count": 6,
   "metadata": {},
   "outputs": [
    {
     "data": {
      "text/plain": [
       "b'<!doctype html>\\n<html lang=\"en\">\\n  <head>\\n    <meta charset=\"utf-8\">\\n    <meta name=\"viewport\" content=\"width=device-width, initial-scale=1\">\\n    <title>BSS2</title>\\n    <!-- external style sheet -->\\n    <link rel=\"stylesheet\" href=\"./index.css\">\\n\\n    <!--Bootstrap style sheet-->\\n    <link href=\"https://cdn.jsdelivr.net/npm/bootstrap@5.2.0-beta1/dist/css/bootstrap.min.css\" rel=\"stylesheet\" integrity=\"sha384-0evHe/X+R7YkIZDRvuzKMRqM+OrBnVFBL6DOitfPri4tjfHxaWutUpFmBp4vmVor\" crossorigin=\"anonymous\">\\n\\n    <!--for icons of tick and cross ans star for in stock-->\\n    <link rel=\"stylesheet\" href=\"https://cdnjs.cloudflare.com/ajax/libs/font-awesome/4.7.0/css/font-awesome.min.css\"> \\n\\n  </head>\\n  <body>\\n    <header class=\"header d-flex align-items-center justify-content-between\">\\n        <img class=\"image-container\" src=\"./images//arif.jpg\" alt=\"arif\"/>\\n         <p> <span class=\"large_text\">Books Scraping Site</span></p>\\n        <img class=\"image-container\" src=\"./images/pucit.jpg\" alt=\"pucit\"/>\\n    </header>\\n    <section>\\n        <div class=\"main-container d-flex align-items-start justify-content-between\">\\n            <div class=\"navbar\">\\n                <ul class=\"nav-links\">\\n                    <div class=\"link text-center\" id=\"book_title\">Books Titles</div>\\n                    <li class=\"link book_type\"><a href=\"index.html\">Operating System</a></li>\\n                    <li class=\"link book_type\"><a href=\"SP.html\">System Programming</a></li>\\n                    <li class=\"link book_type\"><a href=\"CA.html\">Computer Architecture</a></li>\\n                </ul>\\n            </div>\\n            <div class=\"items\">\\n                <div id=\"book_page_titile\">Operating Systems</div>\\n                <div class=\"row\">\\n                    <div class=\"book_container col-sm-4\">\\n                        <img src=\"images/OS concepts.jpg\" alt=\"\" title=\"The Linux Programming Interface (TLPI) is the definitive guide &#10; to the Linux and UNIX programming interface\\xe2\\x80\\x94the interface&#10; employed by nearly every application that runs on a &#10;Linux or UNIX system.\">\\n                        <p  class=\"book_name\"><a href=\"https://www.amazon.com/Operating-System-Concepts-Abridged-Companion/dp/1119456339\" target=\"_blank\">Operating System Concepts </br>By Avi Silberschatz</a></p>\\n                        <div class=\"align-left\">\\n                            <p class=\" price green\">Rs.2000</p>\\n                            <p class=\"stock in_stock \" data-stock=\"in stock\"><i class=\"fa fa-check\" aria-hidden=\"true\"></i> In stock</p>\\n                            <div><span class=\"fa fa-star \"></span><span class=\"fa fa-star \"></span><span class=\"fa fa-star \"></span><span class=\"fa fa-star  not_filled\"></span><span class=\"fa fa-star  not_filled\"></span></div>\\n                            <p class=\"review green\" data-rating=\"20\">20 Reviews</p>\\n                            <button>Add to cart</button>\\n                        </div>\\n                    </div>\\n                    <div class=\"book_container col-sm-4\">\\n                        <img src=\"images/Unix.jpg\" alt=\"\" title=\"It covers many topics not covered in older, more traditional textbook &#10;approaches, such as Python, UNIX System Programming from basics to &#10;socket-based network programming using the client-server paradigm, the &#10;Zettabyte File System (ZFS), and the highly developed X Windows-based&#10; KDE and Gnome GUI desktop environments\">\\n                        <p  class=\"book_name\"><a href=\"https://www.google.com/search?q=Unix+the+textbook+by+mansoor&rlz=1C1CHBD_enPK987PK987&oq=unix+the+textbook+by+mansoor&aqs=chrome.0.69i59j69i57j69i59j69i60l5.4419j0j7&sourceid=chrome&ie=UTF-8\" target=\"_blank\">UNIX The Textbook</br> By Syed Mansoor Sarwar</a></p>\\n                        <div class=\"align-left\">\\n                            <p class=\" price green\">Rs.5000</p>\\n                            <p class=\"stock in_stock \" data-stock=\"in stock\"><i class=\"fa fa-check\" aria-hidden=\"true\"></i> In stock</p>\\n                            <div><span class=\"fa fa-star \"></span><span class=\"fa fa-star \"></span><span class=\"fa fa-star \"></span><span class=\"fa fa-star \"></span><span class=\"fa fa-star \"></span></div>\\n                            <p class=\"review green\" data-rating=\"100\">100 Reviews</p>\\n                            <button>Add to cart</button>\\n                        </div>\\n                    </div>\\n                    <div class=\"book_container col-sm-4\">\\n                        <img src=\"images/taxonomy.jpg\" alt=\"\" title=\"Intrusion Detection using System Call Sequence\">\\n                        <p  class=\"book_name\"><a href=\"https://www.amazon.in/Taxonomy-Ids-Arif-Butt/dp/3639294092\" target=\"_blank\">Taxonomy of IDS </br>By Arif Butt</a></p>\\n                        <div class=\"align-left\">\\n                            <p class=\" price green\">Rs.6900</p>\\n                            <p class=\"stock not_stock \" data-stock=\"not in stock\"><i class=\"fa fa-times\" aria-hidden=\"true\"></i> Not in stock</p>\\n                            <div><span class=\"fa fa-star \"></span><span class=\"fa fa-star \"></span><span class=\"fa fa-star\"></span><span class=\"fa fa-star\"></span><span class=\"fa fa-star not_filled\"></span></div>\\n                            <p class=\"review green\" data-rating=\"20\">20 Reviews</p>\\n                            <button>Add to cart</button>\\n                        </div>\\n                    </div>\\n                    <div class=\"book_container col-sm-4\">\\n                        <img src=\"images/understanding OS.jpg\" alt=\"\" title=\"This book approaches the LINUX environment as a programming&#10; companion. No previous exposure to LINUX is necessary to utilize&#10; this text.\">\\n                        <p  class=\"book_name\"><a href=\"https://www.amazon.com/Understanding-Operating-Systems-Ann-McHoes/dp/1305674251\" target=\"_blank\">Understanding operating systems</br> By Ida Flynn</a></p>\\n                        <div class=\"align-left\">\\n                            <p class=\" price green\">Rs.2700</p>\\n                            <p class=\"stock not_stock \" data-stock=\"not in stock\"><i class=\"fa fa-times\" aria-hidden=\"true\"></i> Not in stock</p>\\n                            <div><span class=\"fa fa-star \"></span><span class=\"fa fa-star \"></span><span class=\"fa fa-star not_filled\"></span><span class=\"fa fa-star not_filled\"></span><span class=\"fa fa-star not_filled\"></span></div>\\n                            <p class=\"review green\" data-rating=\"60\">60 Reviews</p>\\n                            <button>Add to cart</button>\\n                        </div>\\n                    </div>\\n                    <div class=\"book_container col-sm-4\">\\n                        <img src=\"images/Computer Systems.jpg\" alt=\"\" title=\"It covers computers\\' data representation, explains how computer architecture&#10; and its underlying meaning changed over the years, and examines&#10; the implementations and performance enhancements of the central processing unit (CPU).\">\\n                        <p  class=\"book_name\"><a href=\"https://www.goodreads.com/book/show/829182.Computer_Systems\" target=\"_blank\">Computer Systems </br> By Randal E. Bryant </a></p>\\n                        <div class=\"align-left\">\\n                            <p class=\" price green\">Rs.1700</p>\\n                            <p class=\"stock in_stock \" data-stock=\"in stock\"><i class=\"fa fa-check\" aria-hidden=\"true\"></i> In stock</p>\\n                            <div><span class=\"fa fa-star \"></span><span class=\"fa fa-star \"></span><span class=\"fa fa-star not_filled\"></span><span class=\"fa fa-star not_filled\"></span><span class=\"fa fa-star not_filled\"></span></div>\\n                            <p class=\"review green\" data-rating=\"25\">25 Reviews</p>\\n                            <button>Add to cart</button>\\n                        </div>\\n                    </div>\\n                    <div class=\"book_container col-sm-4\">\\n                        <img src=\"images/linux bible.jpg\" alt=\"\" title=\"It includes information on cloud computing, with new guidance on containerization,&#10; Ansible automation, and Kubernetes and OpenShift. With a&#10; focus on RHEL 8\">\\n                        <p  class=\"book_name\"><a href=\"https://www.amazon.com/Linux-Bible-Christopher-Negus/dp/111821854X\" target=\"_blank\">Linux bible </br> Book By Christopher Negus</a></p></p>\\n                        <div class=\"align-left\">\\n                            <p class=\" price green\">Rs.1800</p>\\n                            <p class=\"stock not_stock \" data-stock=\"not in stock\"><i class=\"fa fa-times\" aria-hidden=\"true\"></i> Not in stock</p>\\n                            <div><span class=\"fa fa-star\"></span><span class=\"fa fa-star not_filled\"></span><span class=\"fa fa-star not_filled\"></span><span class=\"fa fa-star not_filled\"></span><span class=\"fa fa-star not_filled\"></span></div>\\n                            <p class=\"review green\" data-rating=\"21\">21 Reviews</p>\\n                            <button>Add to cart</button>\\n                        </div>\\n                    </div>\\n                    <div class=\"book_container col-sm-4\">\\n                        <img src=\"images/advanced programming in unix.jpg\" alt=\"\" title=\"This book approaches the LINUX environment as a programming&#10; companion. No previous exposure to LINUX is necessary to utilize&#10; this text.\">\\n                        <p  class=\"book_name\"><a href=\"https://www.amazon.com/dp/0321637739?tag=uuid10-20\" target=\"_blank\">Advanced Programming in the UNIX Environment </br> By W. Stevans</a></p>\\n                        <div class=\"align-left\">\\n                            <p class=\" price green\">Rs.6000</p>\\n                            <p class=\"stock in_stock \" data-stock=\"in stock\"><i class=\"fa fa-check\" aria-hidden=\"true\"></i> In stock</p>\\n                            <div><span class=\"fa fa-star\"></span><span class=\"fa fa-star not_filled\"></span><span class=\"fa fa-star not_filled\"></span><span class=\"fa fa-star not_filled\"></span><span class=\"fa fa-star not_filled\"></span></div>\\n                            <p class=\"review green\" data-rating=\"40\">40 Reviews</p>\\n                            <button>Add to cart</button>\\n                        </div>\\n                    </div>\\n                    <div class=\"book_container col-sm-4\">\\n                        <img src=\"images/OS a design appraoch.png\" alt=\"\" title=\"It covers computers\\' data representation, explains how computer architecture&#10; and its underlying meaning changed over the years, and examines&#10; the implementations and performance enhancements of the central processing unit (CPU).\">\\n                        <p  class=\"book_name\"><a href=\"https://www.amazon.com/s?k=Operating+Systems%3A+A+Design-oriented+Approach&i=stripbooks-intl-ship&ref=nb_sb_noss\" target=\"_blank\">Operating Systems: A Design-oriented Approach</br> By Charles Patrick Crowley</a></p>\\n                        <div class=\"align-left\">\\n                            <p class=\" price green\">Rs.1000</p>\\n                            <p class=\"stock in_stock \" data-stock=\"in stock\"><i class=\"fa fa-check\" aria-hidden=\"true\"></i> In stock</p>\\n                            <div><span class=\"fa fa-star\"></span><span class=\"fa fa-star \"></span><span class=\"fa fa-star \"></span><span class=\"fa fa-star not_filled\"></span><span class=\"fa fa-star not_filled\"></span></div>\\n                            <p class=\"review green\" data-rating=\"90\">90 Reviews</p>\\n                            <button>Add to cart</button>\\n                        </div>\\n                    </div>\\n                    <div class=\"book_container col-sm-4\">\\n                        <img src=\"images/hands on network programming.jpg\" alt=\"\" title=\"It includes information on cloud computing, with new guidance on containerization,&#10; Ansible automation, and Kubernetes and OpenShift. With a&#10; focus on RHEL 8\">\\n                        <p  class=\"book_name\"><a href=\"https://www.amazon.com/Hands-Network-Programming-programming-optimized/dp/1789349869/ref=sr_1_1?crid=11FC0M0GAFA21&amp&keywords=unix+network+programming+2019&amp&qid=1653381349&amp&s=books&amp&sprefix=unix+network+programming+2019%2Cstripbooks-intl-ship%2C356&amp&sr=1-1\" target=\"_blank\">Hands-On Network Programming with C </br> By Lewis Van Winkle</p></a></p>\\n                        <div class=\"align-left\">\\n                            <p class=\" price green\">Rs.1800</p>\\n                            <p class=\"stock in_stock \" data-stock=\"in stock\"><i class=\"fa fa-check\" aria-hidden=\"true\"></i> In stock</p>\\n                            <div><span class=\"fa fa-star\"></span><span class=\"fa fa-star \"></span><span class=\"fa fa-star\"></span><span class=\"fa fa-star \"></span><span class=\"fa fa-star not_filled\"></span></div>\\n                            <p class=\"review green\" data-rating=\"70\">70 Reviews</p>\\n                            <button>Add to cart</button>\\n                        </div>\\n                    </div>\\n            </div>\\n        </div>\\n    </section>\\n    <script src=\"https://cdn.jsdelivr.net/npm/bootstrap@5.2.0-beta1/dist/js/bootstrap.bundle.min.js\" integrity=\"sha384-pprn3073KE6tl6bjs2QrFaJGz5/SUsLqktiwsUTF55Jfv3qYSDhgCecCxMW52nD2\" crossorigin=\"anonymous\"></script>\\n  </body>\\n</html>\\n'"
      ]
     },
     "execution_count": 6,
     "metadata": {},
     "output_type": "execute_result"
    }
   ],
   "source": [
    "# getting html of page\n",
    "resp.content"
   ]
  },
  {
   "cell_type": "code",
   "execution_count": 7,
   "metadata": {},
   "outputs": [
    {
     "data": {
      "text/plain": [
       "bytes"
      ]
     },
     "execution_count": 7,
     "metadata": {},
     "output_type": "execute_result"
    }
   ],
   "source": [
    "type(resp.content)"
   ]
  },
  {
   "cell_type": "code",
   "execution_count": 10,
   "metadata": {},
   "outputs": [
    {
     "data": {
      "text/plain": [
       "'<!doctype html>\\n<html lang=\"en\">\\n  <head>\\n    <meta charset=\"utf-8\">\\n    <meta name=\"viewport\" content=\"width=device-width, initial-scale=1\">\\n    <title>BSS2</title>\\n    <!-- external style sheet -->\\n    <link rel=\"stylesheet\" href=\"./index.css\">\\n\\n    <!--Bootstrap style sheet-->\\n    <link href=\"https://cdn.jsdelivr.net/npm/bootstrap@5.2.0-beta1/dist/css/bootstrap.min.css\" rel=\"stylesheet\" integrity=\"sha384-0evHe/X+R7YkIZDRvuzKMRqM+OrBnVFBL6DOitfPri4tjfHxaWutUpFmBp4vmVor\" crossorigin=\"anonymous\">\\n\\n    <!--for icons of tick and cross ans star for in stock-->\\n    <link rel=\"stylesheet\" href=\"https://cdnjs.cloudflare.com/ajax/libs/font-awesome/4.7.0/css/font-awesome.min.css\"> \\n\\n  </head>\\n  <body>\\n    <header class=\"header d-flex align-items-center justify-content-between\">\\n        <img class=\"image-container\" src=\"./images//arif.jpg\" alt=\"arif\"/>\\n         <p> <span class=\"large_text\">Books Scraping Site</span></p>\\n        <img class=\"image-container\" src=\"./images/pucit.jpg\" alt=\"pucit\"/>\\n    </header>\\n    <section>\\n        <div class=\"main-container d-flex align-items-start justify-content-between\">\\n            <div class=\"navbar\">\\n                <ul class=\"nav-links\">\\n                    <div class=\"link text-center\" id=\"book_title\">Books Titles</div>\\n                    <li class=\"link book_type\"><a href=\"index.html\">Operating System</a></li>\\n                    <li class=\"link book_type\"><a href=\"SP.html\">System Programming</a></li>\\n                    <li class=\"link book_type\"><a href=\"CA.html\">Computer Architecture</a></li>\\n                </ul>\\n            </div>\\n            <div class=\"items\">\\n                <div id=\"book_page_titile\">Operating Systems</div>\\n                <div class=\"row\">\\n                    <div class=\"book_container col-sm-4\">\\n                        <img src=\"images/OS concepts.jpg\" alt=\"\" title=\"The Linux Programming Interface (TLPI) is the definitive guide &#10; to the Linux and UNIX programming interface—the interface&#10; employed by nearly every application that runs on a &#10;Linux or UNIX system.\">\\n                        <p  class=\"book_name\"><a href=\"https://www.amazon.com/Operating-System-Concepts-Abridged-Companion/dp/1119456339\" target=\"_blank\">Operating System Concepts </br>By Avi Silberschatz</a></p>\\n                        <div class=\"align-left\">\\n                            <p class=\" price green\">Rs.2000</p>\\n                            <p class=\"stock in_stock \" data-stock=\"in stock\"><i class=\"fa fa-check\" aria-hidden=\"true\"></i> In stock</p>\\n                            <div><span class=\"fa fa-star \"></span><span class=\"fa fa-star \"></span><span class=\"fa fa-star \"></span><span class=\"fa fa-star  not_filled\"></span><span class=\"fa fa-star  not_filled\"></span></div>\\n                            <p class=\"review green\" data-rating=\"20\">20 Reviews</p>\\n                            <button>Add to cart</button>\\n                        </div>\\n                    </div>\\n                    <div class=\"book_container col-sm-4\">\\n                        <img src=\"images/Unix.jpg\" alt=\"\" title=\"It covers many topics not covered in older, more traditional textbook &#10;approaches, such as Python, UNIX System Programming from basics to &#10;socket-based network programming using the client-server paradigm, the &#10;Zettabyte File System (ZFS), and the highly developed X Windows-based&#10; KDE and Gnome GUI desktop environments\">\\n                        <p  class=\"book_name\"><a href=\"https://www.google.com/search?q=Unix+the+textbook+by+mansoor&rlz=1C1CHBD_enPK987PK987&oq=unix+the+textbook+by+mansoor&aqs=chrome.0.69i59j69i57j69i59j69i60l5.4419j0j7&sourceid=chrome&ie=UTF-8\" target=\"_blank\">UNIX The Textbook</br> By Syed Mansoor Sarwar</a></p>\\n                        <div class=\"align-left\">\\n                            <p class=\" price green\">Rs.5000</p>\\n                            <p class=\"stock in_stock \" data-stock=\"in stock\"><i class=\"fa fa-check\" aria-hidden=\"true\"></i> In stock</p>\\n                            <div><span class=\"fa fa-star \"></span><span class=\"fa fa-star \"></span><span class=\"fa fa-star \"></span><span class=\"fa fa-star \"></span><span class=\"fa fa-star \"></span></div>\\n                            <p class=\"review green\" data-rating=\"100\">100 Reviews</p>\\n                            <button>Add to cart</button>\\n                        </div>\\n                    </div>\\n                    <div class=\"book_container col-sm-4\">\\n                        <img src=\"images/taxonomy.jpg\" alt=\"\" title=\"Intrusion Detection using System Call Sequence\">\\n                        <p  class=\"book_name\"><a href=\"https://www.amazon.in/Taxonomy-Ids-Arif-Butt/dp/3639294092\" target=\"_blank\">Taxonomy of IDS </br>By Arif Butt</a></p>\\n                        <div class=\"align-left\">\\n                            <p class=\" price green\">Rs.6900</p>\\n                            <p class=\"stock not_stock \" data-stock=\"not in stock\"><i class=\"fa fa-times\" aria-hidden=\"true\"></i> Not in stock</p>\\n                            <div><span class=\"fa fa-star \"></span><span class=\"fa fa-star \"></span><span class=\"fa fa-star\"></span><span class=\"fa fa-star\"></span><span class=\"fa fa-star not_filled\"></span></div>\\n                            <p class=\"review green\" data-rating=\"20\">20 Reviews</p>\\n                            <button>Add to cart</button>\\n                        </div>\\n                    </div>\\n                    <div class=\"book_container col-sm-4\">\\n                        <img src=\"images/understanding OS.jpg\" alt=\"\" title=\"This book approaches the LINUX environment as a programming&#10; companion. No previous exposure to LINUX is necessary to utilize&#10; this text.\">\\n                        <p  class=\"book_name\"><a href=\"https://www.amazon.com/Understanding-Operating-Systems-Ann-McHoes/dp/1305674251\" target=\"_blank\">Understanding operating systems</br> By Ida Flynn</a></p>\\n                        <div class=\"align-left\">\\n                            <p class=\" price green\">Rs.2700</p>\\n                            <p class=\"stock not_stock \" data-stock=\"not in stock\"><i class=\"fa fa-times\" aria-hidden=\"true\"></i> Not in stock</p>\\n                            <div><span class=\"fa fa-star \"></span><span class=\"fa fa-star \"></span><span class=\"fa fa-star not_filled\"></span><span class=\"fa fa-star not_filled\"></span><span class=\"fa fa-star not_filled\"></span></div>\\n                            <p class=\"review green\" data-rating=\"60\">60 Reviews</p>\\n                            <button>Add to cart</button>\\n                        </div>\\n                    </div>\\n                    <div class=\"book_container col-sm-4\">\\n                        <img src=\"images/Computer Systems.jpg\" alt=\"\" title=\"It covers computers\\' data representation, explains how computer architecture&#10; and its underlying meaning changed over the years, and examines&#10; the implementations and performance enhancements of the central processing unit (CPU).\">\\n                        <p  class=\"book_name\"><a href=\"https://www.goodreads.com/book/show/829182.Computer_Systems\" target=\"_blank\">Computer Systems </br> By Randal E. Bryant </a></p>\\n                        <div class=\"align-left\">\\n                            <p class=\" price green\">Rs.1700</p>\\n                            <p class=\"stock in_stock \" data-stock=\"in stock\"><i class=\"fa fa-check\" aria-hidden=\"true\"></i> In stock</p>\\n                            <div><span class=\"fa fa-star \"></span><span class=\"fa fa-star \"></span><span class=\"fa fa-star not_filled\"></span><span class=\"fa fa-star not_filled\"></span><span class=\"fa fa-star not_filled\"></span></div>\\n                            <p class=\"review green\" data-rating=\"25\">25 Reviews</p>\\n                            <button>Add to cart</button>\\n                        </div>\\n                    </div>\\n                    <div class=\"book_container col-sm-4\">\\n                        <img src=\"images/linux bible.jpg\" alt=\"\" title=\"It includes information on cloud computing, with new guidance on containerization,&#10; Ansible automation, and Kubernetes and OpenShift. With a&#10; focus on RHEL 8\">\\n                        <p  class=\"book_name\"><a href=\"https://www.amazon.com/Linux-Bible-Christopher-Negus/dp/111821854X\" target=\"_blank\">Linux bible </br> Book By Christopher Negus</a></p></p>\\n                        <div class=\"align-left\">\\n                            <p class=\" price green\">Rs.1800</p>\\n                            <p class=\"stock not_stock \" data-stock=\"not in stock\"><i class=\"fa fa-times\" aria-hidden=\"true\"></i> Not in stock</p>\\n                            <div><span class=\"fa fa-star\"></span><span class=\"fa fa-star not_filled\"></span><span class=\"fa fa-star not_filled\"></span><span class=\"fa fa-star not_filled\"></span><span class=\"fa fa-star not_filled\"></span></div>\\n                            <p class=\"review green\" data-rating=\"21\">21 Reviews</p>\\n                            <button>Add to cart</button>\\n                        </div>\\n                    </div>\\n                    <div class=\"book_container col-sm-4\">\\n                        <img src=\"images/advanced programming in unix.jpg\" alt=\"\" title=\"This book approaches the LINUX environment as a programming&#10; companion. No previous exposure to LINUX is necessary to utilize&#10; this text.\">\\n                        <p  class=\"book_name\"><a href=\"https://www.amazon.com/dp/0321637739?tag=uuid10-20\" target=\"_blank\">Advanced Programming in the UNIX Environment </br> By W. Stevans</a></p>\\n                        <div class=\"align-left\">\\n                            <p class=\" price green\">Rs.6000</p>\\n                            <p class=\"stock in_stock \" data-stock=\"in stock\"><i class=\"fa fa-check\" aria-hidden=\"true\"></i> In stock</p>\\n                            <div><span class=\"fa fa-star\"></span><span class=\"fa fa-star not_filled\"></span><span class=\"fa fa-star not_filled\"></span><span class=\"fa fa-star not_filled\"></span><span class=\"fa fa-star not_filled\"></span></div>\\n                            <p class=\"review green\" data-rating=\"40\">40 Reviews</p>\\n                            <button>Add to cart</button>\\n                        </div>\\n                    </div>\\n                    <div class=\"book_container col-sm-4\">\\n                        <img src=\"images/OS a design appraoch.png\" alt=\"\" title=\"It covers computers\\' data representation, explains how computer architecture&#10; and its underlying meaning changed over the years, and examines&#10; the implementations and performance enhancements of the central processing unit (CPU).\">\\n                        <p  class=\"book_name\"><a href=\"https://www.amazon.com/s?k=Operating+Systems%3A+A+Design-oriented+Approach&i=stripbooks-intl-ship&ref=nb_sb_noss\" target=\"_blank\">Operating Systems: A Design-oriented Approach</br> By Charles Patrick Crowley</a></p>\\n                        <div class=\"align-left\">\\n                            <p class=\" price green\">Rs.1000</p>\\n                            <p class=\"stock in_stock \" data-stock=\"in stock\"><i class=\"fa fa-check\" aria-hidden=\"true\"></i> In stock</p>\\n                            <div><span class=\"fa fa-star\"></span><span class=\"fa fa-star \"></span><span class=\"fa fa-star \"></span><span class=\"fa fa-star not_filled\"></span><span class=\"fa fa-star not_filled\"></span></div>\\n                            <p class=\"review green\" data-rating=\"90\">90 Reviews</p>\\n                            <button>Add to cart</button>\\n                        </div>\\n                    </div>\\n                    <div class=\"book_container col-sm-4\">\\n                        <img src=\"images/hands on network programming.jpg\" alt=\"\" title=\"It includes information on cloud computing, with new guidance on containerization,&#10; Ansible automation, and Kubernetes and OpenShift. With a&#10; focus on RHEL 8\">\\n                        <p  class=\"book_name\"><a href=\"https://www.amazon.com/Hands-Network-Programming-programming-optimized/dp/1789349869/ref=sr_1_1?crid=11FC0M0GAFA21&amp&keywords=unix+network+programming+2019&amp&qid=1653381349&amp&s=books&amp&sprefix=unix+network+programming+2019%2Cstripbooks-intl-ship%2C356&amp&sr=1-1\" target=\"_blank\">Hands-On Network Programming with C </br> By Lewis Van Winkle</p></a></p>\\n                        <div class=\"align-left\">\\n                            <p class=\" price green\">Rs.1800</p>\\n                            <p class=\"stock in_stock \" data-stock=\"in stock\"><i class=\"fa fa-check\" aria-hidden=\"true\"></i> In stock</p>\\n                            <div><span class=\"fa fa-star\"></span><span class=\"fa fa-star \"></span><span class=\"fa fa-star\"></span><span class=\"fa fa-star \"></span><span class=\"fa fa-star not_filled\"></span></div>\\n                            <p class=\"review green\" data-rating=\"70\">70 Reviews</p>\\n                            <button>Add to cart</button>\\n                        </div>\\n                    </div>\\n            </div>\\n        </div>\\n    </section>\\n    <script src=\"https://cdn.jsdelivr.net/npm/bootstrap@5.2.0-beta1/dist/js/bootstrap.bundle.min.js\" integrity=\"sha384-pprn3073KE6tl6bjs2QrFaJGz5/SUsLqktiwsUTF55Jfv3qYSDhgCecCxMW52nD2\" crossorigin=\"anonymous\"></script>\\n  </body>\\n</html>\\n'"
      ]
     },
     "execution_count": 10,
     "metadata": {},
     "output_type": "execute_result"
    }
   ],
   "source": [
    "\n",
    "resp.text"
   ]
  },
  {
   "cell_type": "code",
   "execution_count": 9,
   "metadata": {},
   "outputs": [
    {
     "data": {
      "text/plain": [
       "str"
      ]
     },
     "execution_count": 9,
     "metadata": {},
     "output_type": "execute_result"
    }
   ],
   "source": [
    "type(resp.text)"
   ]
  },
  {
   "cell_type": "markdown",
   "metadata": {},
   "source": [
    "### Creating BeautifulSoup Object using BeautifulSoup Library"
   ]
  },
  {
   "cell_type": "code",
   "execution_count": 11,
   "metadata": {},
   "outputs": [],
   "source": [
    "from bs4 import BeautifulSoup"
   ]
  },
  {
   "cell_type": "code",
   "execution_count": 17,
   "metadata": {},
   "outputs": [
    {
     "data": {
      "text/plain": [
       "bs4.BeautifulSoup"
      ]
     },
     "execution_count": 17,
     "metadata": {},
     "output_type": "execute_result"
    }
   ],
   "source": [
    "soup =BeautifulSoup(resp.text)\n",
    "type(soup)"
   ]
  },
  {
   "cell_type": "code",
   "execution_count": 23,
   "metadata": {},
   "outputs": [
    {
     "name": "stdout",
     "output_type": "stream",
     "text": [
      "<!DOCTYPE html>\n",
      "\n",
      "<html lang=\"en\">\n",
      "<head>\n",
      "<meta charset=\"utf-8\"/>\n",
      "<meta content=\"width=device-width, initial-scale=1\" name=\"viewport\"/>\n",
      "<title>BSS2</title>\n",
      "<!-- external style sheet -->\n",
      "<link href=\"./index.css\" rel=\"stylesheet\"/>\n",
      "<!--Bootstrap style sheet-->\n",
      "<link crossorigin=\"anonymous\" href=\"https://cdn.jsdelivr.net/npm/bootstrap@5.2.0-beta1/dist/css/bootstrap.min.css\" integrity=\"sha384-0evHe/X+R7YkIZDRvuzKMRqM+OrBnVFBL6DOitfPri4tjfHxaWutUpFmBp4vmVor\" rel=\"stylesheet\"/>\n",
      "<!--for icons of tick and cross ans star for in stock-->\n",
      "<link href=\"https://cdnjs.cloudflare.com/ajax/libs/font-awesome/4.7.0/css/font-awesome.min.css\" rel=\"stylesheet\"/>\n",
      "</head>\n",
      "<body>\n",
      "<header class=\"header d-flex align-items-center justify-content-between\">\n",
      "<img alt=\"arif\" class=\"image-container\" src=\"./images//arif.jpg\"/>\n",
      "<p> <span class=\"large_text\">Books Scraping Site</span></p>\n",
      "<img alt=\"pucit\" class=\"image-container\" src=\"./images/pucit.jpg\"/>\n",
      "</header>\n",
      "<section>\n",
      "<div class=\"main-container d-flex align-items-start justify-content-between\">\n",
      "<div class=\"navbar\">\n",
      "<ul class=\"nav-links\">\n",
      "<div class=\"link text-center\" id=\"book_title\">Books Titles</div>\n",
      "<li class=\"link book_type\"><a href=\"index.html\">Operating System</a></li>\n",
      "<li class=\"link book_type\"><a href=\"SP.html\">System Programming</a></li>\n",
      "<li class=\"link book_type\"><a href=\"CA.html\">Computer Architecture</a></li>\n",
      "</ul>\n",
      "</div>\n",
      "<div class=\"items\">\n",
      "<div id=\"book_page_titile\">Operating Systems</div>\n",
      "<div class=\"row\">\n",
      "<div class=\"book_container col-sm-4\">\n",
      "<img alt=\"\" src=\"images/OS concepts.jpg\" title=\"The Linux Programming Interface (TLPI) is the definitive guide \n",
      " to the Linux and UNIX programming interface—the interface\n",
      " employed by nearly every application that runs on a \n",
      "Linux or UNIX system.\"/>\n",
      "<p class=\"book_name\"><a href=\"https://www.amazon.com/Operating-System-Concepts-Abridged-Companion/dp/1119456339\" target=\"_blank\">Operating System Concepts By Avi Silberschatz</a></p>\n",
      "<div class=\"align-left\">\n",
      "<p class=\"price green\">Rs.2000</p>\n",
      "<p class=\"stock in_stock\" data-stock=\"in stock\"><i aria-hidden=\"true\" class=\"fa fa-check\"></i> In stock</p>\n",
      "<div><span class=\"fa fa-star\"></span><span class=\"fa fa-star\"></span><span class=\"fa fa-star\"></span><span class=\"fa fa-star not_filled\"></span><span class=\"fa fa-star not_filled\"></span></div>\n",
      "<p class=\"review green\" data-rating=\"20\">20 Reviews</p>\n",
      "<button>Add to cart</button>\n",
      "</div>\n",
      "</div>\n",
      "<div class=\"book_container col-sm-4\">\n",
      "<img alt=\"\" src=\"images/Unix.jpg\" title=\"It covers many topics not covered in older, more traditional textbook \n",
      "approaches, such as Python, UNIX System Programming from basics to \n",
      "socket-based network programming using the client-server paradigm, the \n",
      "Zettabyte File System (ZFS), and the highly developed X Windows-based\n",
      " KDE and Gnome GUI desktop environments\"/>\n",
      "<p class=\"book_name\"><a href=\"https://www.google.com/search?q=Unix+the+textbook+by+mansoor&amp;rlz=1C1CHBD_enPK987PK987&amp;oq=unix+the+textbook+by+mansoor&amp;aqs=chrome.0.69i59j69i57j69i59j69i60l5.4419j0j7&amp;sourceid=chrome&amp;ie=UTF-8\" target=\"_blank\">UNIX The Textbook By Syed Mansoor Sarwar</a></p>\n",
      "<div class=\"align-left\">\n",
      "<p class=\"price green\">Rs.5000</p>\n",
      "<p class=\"stock in_stock\" data-stock=\"in stock\"><i aria-hidden=\"true\" class=\"fa fa-check\"></i> In stock</p>\n",
      "<div><span class=\"fa fa-star\"></span><span class=\"fa fa-star\"></span><span class=\"fa fa-star\"></span><span class=\"fa fa-star\"></span><span class=\"fa fa-star\"></span></div>\n",
      "<p class=\"review green\" data-rating=\"100\">100 Reviews</p>\n",
      "<button>Add to cart</button>\n",
      "</div>\n",
      "</div>\n",
      "<div class=\"book_container col-sm-4\">\n",
      "<img alt=\"\" src=\"images/taxonomy.jpg\" title=\"Intrusion Detection using System Call Sequence\"/>\n",
      "<p class=\"book_name\"><a href=\"https://www.amazon.in/Taxonomy-Ids-Arif-Butt/dp/3639294092\" target=\"_blank\">Taxonomy of IDS By Arif Butt</a></p>\n",
      "<div class=\"align-left\">\n",
      "<p class=\"price green\">Rs.6900</p>\n",
      "<p class=\"stock not_stock\" data-stock=\"not in stock\"><i aria-hidden=\"true\" class=\"fa fa-times\"></i> Not in stock</p>\n",
      "<div><span class=\"fa fa-star\"></span><span class=\"fa fa-star\"></span><span class=\"fa fa-star\"></span><span class=\"fa fa-star\"></span><span class=\"fa fa-star not_filled\"></span></div>\n",
      "<p class=\"review green\" data-rating=\"20\">20 Reviews</p>\n",
      "<button>Add to cart</button>\n",
      "</div>\n",
      "</div>\n",
      "<div class=\"book_container col-sm-4\">\n",
      "<img alt=\"\" src=\"images/understanding OS.jpg\" title=\"This book approaches the LINUX environment as a programming\n",
      " companion. No previous exposure to LINUX is necessary to utilize\n",
      " this text.\"/>\n",
      "<p class=\"book_name\"><a href=\"https://www.amazon.com/Understanding-Operating-Systems-Ann-McHoes/dp/1305674251\" target=\"_blank\">Understanding operating systems By Ida Flynn</a></p>\n",
      "<div class=\"align-left\">\n",
      "<p class=\"price green\">Rs.2700</p>\n",
      "<p class=\"stock not_stock\" data-stock=\"not in stock\"><i aria-hidden=\"true\" class=\"fa fa-times\"></i> Not in stock</p>\n",
      "<div><span class=\"fa fa-star\"></span><span class=\"fa fa-star\"></span><span class=\"fa fa-star not_filled\"></span><span class=\"fa fa-star not_filled\"></span><span class=\"fa fa-star not_filled\"></span></div>\n",
      "<p class=\"review green\" data-rating=\"60\">60 Reviews</p>\n",
      "<button>Add to cart</button>\n",
      "</div>\n",
      "</div>\n",
      "<div class=\"book_container col-sm-4\">\n",
      "<img alt=\"\" src=\"images/Computer Systems.jpg\" title=\"It covers computers' data representation, explains how computer architecture\n",
      " and its underlying meaning changed over the years, and examines\n",
      " the implementations and performance enhancements of the central processing unit (CPU).\"/>\n",
      "<p class=\"book_name\"><a href=\"https://www.goodreads.com/book/show/829182.Computer_Systems\" target=\"_blank\">Computer Systems  By Randal E. Bryant </a></p>\n",
      "<div class=\"align-left\">\n",
      "<p class=\"price green\">Rs.1700</p>\n",
      "<p class=\"stock in_stock\" data-stock=\"in stock\"><i aria-hidden=\"true\" class=\"fa fa-check\"></i> In stock</p>\n",
      "<div><span class=\"fa fa-star\"></span><span class=\"fa fa-star\"></span><span class=\"fa fa-star not_filled\"></span><span class=\"fa fa-star not_filled\"></span><span class=\"fa fa-star not_filled\"></span></div>\n",
      "<p class=\"review green\" data-rating=\"25\">25 Reviews</p>\n",
      "<button>Add to cart</button>\n",
      "</div>\n",
      "</div>\n",
      "<div class=\"book_container col-sm-4\">\n",
      "<img alt=\"\" src=\"images/linux bible.jpg\" title=\"It includes information on cloud computing, with new guidance on containerization,\n",
      " Ansible automation, and Kubernetes and OpenShift. With a\n",
      " focus on RHEL 8\"/>\n",
      "<p class=\"book_name\"><a href=\"https://www.amazon.com/Linux-Bible-Christopher-Negus/dp/111821854X\" target=\"_blank\">Linux bible  Book By Christopher Negus</a></p>\n",
      "<div class=\"align-left\">\n",
      "<p class=\"price green\">Rs.1800</p>\n",
      "<p class=\"stock not_stock\" data-stock=\"not in stock\"><i aria-hidden=\"true\" class=\"fa fa-times\"></i> Not in stock</p>\n",
      "<div><span class=\"fa fa-star\"></span><span class=\"fa fa-star not_filled\"></span><span class=\"fa fa-star not_filled\"></span><span class=\"fa fa-star not_filled\"></span><span class=\"fa fa-star not_filled\"></span></div>\n",
      "<p class=\"review green\" data-rating=\"21\">21 Reviews</p>\n",
      "<button>Add to cart</button>\n",
      "</div>\n",
      "</div>\n",
      "<div class=\"book_container col-sm-4\">\n",
      "<img alt=\"\" src=\"images/advanced programming in unix.jpg\" title=\"This book approaches the LINUX environment as a programming\n",
      " companion. No previous exposure to LINUX is necessary to utilize\n",
      " this text.\"/>\n",
      "<p class=\"book_name\"><a href=\"https://www.amazon.com/dp/0321637739?tag=uuid10-20\" target=\"_blank\">Advanced Programming in the UNIX Environment  By W. Stevans</a></p>\n",
      "<div class=\"align-left\">\n",
      "<p class=\"price green\">Rs.6000</p>\n",
      "<p class=\"stock in_stock\" data-stock=\"in stock\"><i aria-hidden=\"true\" class=\"fa fa-check\"></i> In stock</p>\n",
      "<div><span class=\"fa fa-star\"></span><span class=\"fa fa-star not_filled\"></span><span class=\"fa fa-star not_filled\"></span><span class=\"fa fa-star not_filled\"></span><span class=\"fa fa-star not_filled\"></span></div>\n",
      "<p class=\"review green\" data-rating=\"40\">40 Reviews</p>\n",
      "<button>Add to cart</button>\n",
      "</div>\n",
      "</div>\n",
      "<div class=\"book_container col-sm-4\">\n",
      "<img alt=\"\" src=\"images/OS a design appraoch.png\" title=\"It covers computers' data representation, explains how computer architecture\n",
      " and its underlying meaning changed over the years, and examines\n",
      " the implementations and performance enhancements of the central processing unit (CPU).\"/>\n",
      "<p class=\"book_name\"><a href=\"https://www.amazon.com/s?k=Operating+Systems%3A+A+Design-oriented+Approach&amp;i=stripbooks-intl-ship&amp;ref=nb_sb_noss\" target=\"_blank\">Operating Systems: A Design-oriented Approach By Charles Patrick Crowley</a></p>\n",
      "<div class=\"align-left\">\n",
      "<p class=\"price green\">Rs.1000</p>\n",
      "<p class=\"stock in_stock\" data-stock=\"in stock\"><i aria-hidden=\"true\" class=\"fa fa-check\"></i> In stock</p>\n",
      "<div><span class=\"fa fa-star\"></span><span class=\"fa fa-star\"></span><span class=\"fa fa-star\"></span><span class=\"fa fa-star not_filled\"></span><span class=\"fa fa-star not_filled\"></span></div>\n",
      "<p class=\"review green\" data-rating=\"90\">90 Reviews</p>\n",
      "<button>Add to cart</button>\n",
      "</div>\n",
      "</div>\n",
      "<div class=\"book_container col-sm-4\">\n",
      "<img alt=\"\" src=\"images/hands on network programming.jpg\" title=\"It includes information on cloud computing, with new guidance on containerization,\n",
      " Ansible automation, and Kubernetes and OpenShift. With a\n",
      " focus on RHEL 8\"/>\n",
      "<p class=\"book_name\"><a href=\"https://www.amazon.com/Hands-Network-Programming-programming-optimized/dp/1789349869/ref=sr_1_1?crid=11FC0M0GAFA21&amp;&amp;keywords=unix+network+programming+2019&amp;&amp;qid=1653381349&amp;&amp;s=books&amp;&amp;sprefix=unix+network+programming+2019%2Cstripbooks-intl-ship%2C356&amp;&amp;sr=1-1\" target=\"_blank\">Hands-On Network Programming with C  By Lewis Van Winkle</a></p>\n",
      "<div class=\"align-left\">\n",
      "<p class=\"price green\">Rs.1800</p>\n",
      "<p class=\"stock in_stock\" data-stock=\"in stock\"><i aria-hidden=\"true\" class=\"fa fa-check\"></i> In stock</p>\n",
      "<div><span class=\"fa fa-star\"></span><span class=\"fa fa-star\"></span><span class=\"fa fa-star\"></span><span class=\"fa fa-star\"></span><span class=\"fa fa-star not_filled\"></span></div>\n",
      "<p class=\"review green\" data-rating=\"70\">70 Reviews</p>\n",
      "<button>Add to cart</button>\n",
      "</div>\n",
      "</div>\n",
      "</div>\n",
      "</div>\n",
      "</div></section>\n",
      "<script crossorigin=\"anonymous\" integrity=\"sha384-pprn3073KE6tl6bjs2QrFaJGz5/SUsLqktiwsUTF55Jfv3qYSDhgCecCxMW52nD2\" src=\"https://cdn.jsdelivr.net/npm/bootstrap@5.2.0-beta1/dist/js/bootstrap.bundle.min.js\"></script>\n",
      "</body>\n",
      "</html>\n",
      "\n"
     ]
    }
   ],
   "source": [
    "print(soup)"
   ]
  },
  {
   "cell_type": "markdown",
   "metadata": {},
   "source": [
    "### Prettify Soup Object"
   ]
  },
  {
   "cell_type": "code",
   "execution_count": 22,
   "metadata": {},
   "outputs": [
    {
     "name": "stdout",
     "output_type": "stream",
     "text": [
      "<!DOCTYPE html>\n",
      "<html lang=\"en\">\n",
      " <head>\n",
      "  <meta charset=\"utf-8\"/>\n",
      "  <meta content=\"width=device-width, initial-scale=1\" name=\"viewport\"/>\n",
      "  <title>\n",
      "   BSS2\n",
      "  </title>\n",
      "  <!-- external style sheet -->\n",
      "  <link href=\"./index.css\" rel=\"stylesheet\"/>\n",
      "  <!--Bootstrap style sheet-->\n",
      "  <link crossorigin=\"anonymous\" href=\"https://cdn.jsdelivr.net/npm/bootstrap@5.2.0-beta1/dist/css/bootstrap.min.css\" integrity=\"sha384-0evHe/X+R7YkIZDRvuzKMRqM+OrBnVFBL6DOitfPri4tjfHxaWutUpFmBp4vmVor\" rel=\"stylesheet\"/>\n",
      "  <!--for icons of tick and cross ans star for in stock-->\n",
      "  <link href=\"https://cdnjs.cloudflare.com/ajax/libs/font-awesome/4.7.0/css/font-awesome.min.css\" rel=\"stylesheet\"/>\n",
      " </head>\n",
      " <body>\n",
      "  <header class=\"header d-flex align-items-center justify-content-between\">\n",
      "   <img alt=\"arif\" class=\"image-container\" src=\"./images//arif.jpg\"/>\n",
      "   <p>\n",
      "    <span class=\"large_text\">\n",
      "     Books Scraping Site\n",
      "    </span>\n",
      "   </p>\n",
      "   <img alt=\"pucit\" class=\"image-container\" src=\"./images/pucit.jpg\"/>\n",
      "  </header>\n",
      "  <section>\n",
      "   <div class=\"main-container d-flex align-items-start justify-content-between\">\n",
      "    <div class=\"navbar\">\n",
      "     <ul class=\"nav-links\">\n",
      "      <div class=\"link text-center\" id=\"book_title\">\n",
      "       Books Titles\n",
      "      </div>\n",
      "      <li class=\"link book_type\">\n",
      "       <a href=\"index.html\">\n",
      "        Operating System\n",
      "       </a>\n",
      "      </li>\n",
      "      <li class=\"link book_type\">\n",
      "       <a href=\"SP.html\">\n",
      "        System Programming\n",
      "       </a>\n",
      "      </li>\n",
      "      <li class=\"link book_type\">\n",
      "       <a href=\"CA.html\">\n",
      "        Computer Architecture\n",
      "       </a>\n",
      "      </li>\n",
      "     </ul>\n",
      "    </div>\n",
      "    <div class=\"items\">\n",
      "     <div id=\"book_page_titile\">\n",
      "      Operating Systems\n",
      "     </div>\n",
      "     <div class=\"row\">\n",
      "      <div class=\"book_container col-sm-4\">\n",
      "       <img alt=\"\" src=\"images/OS concepts.jpg\" title=\"The Linux Programming Interface (TLPI) is the definitive guide \n",
      " to the Linux and UNIX programming interface—the interface\n",
      " employed by nearly every application that runs on a \n",
      "Linux or UNIX system.\"/>\n",
      "       <p class=\"book_name\">\n",
      "        <a href=\"https://www.amazon.com/Operating-System-Concepts-Abridged-Companion/dp/1119456339\" target=\"_blank\">\n",
      "         Operating System Concepts\n",
      "         By Avi Silberschatz\n",
      "        </a>\n",
      "       </p>\n",
      "       <div class=\"align-left\">\n",
      "        <p class=\"price green\">\n",
      "         Rs.2000\n",
      "        </p>\n",
      "        <p class=\"stock in_stock\" data-stock=\"in stock\">\n",
      "         <i aria-hidden=\"true\" class=\"fa fa-check\">\n",
      "         </i>\n",
      "         In stock\n",
      "        </p>\n",
      "        <div>\n",
      "         <span class=\"fa fa-star\">\n",
      "         </span>\n",
      "         <span class=\"fa fa-star\">\n",
      "         </span>\n",
      "         <span class=\"fa fa-star\">\n",
      "         </span>\n",
      "         <span class=\"fa fa-star not_filled\">\n",
      "         </span>\n",
      "         <span class=\"fa fa-star not_filled\">\n",
      "         </span>\n",
      "        </div>\n",
      "        <p class=\"review green\" data-rating=\"20\">\n",
      "         20 Reviews\n",
      "        </p>\n",
      "        <button>\n",
      "         Add to cart\n",
      "        </button>\n",
      "       </div>\n",
      "      </div>\n",
      "      <div class=\"book_container col-sm-4\">\n",
      "       <img alt=\"\" src=\"images/Unix.jpg\" title=\"It covers many topics not covered in older, more traditional textbook \n",
      "approaches, such as Python, UNIX System Programming from basics to \n",
      "socket-based network programming using the client-server paradigm, the \n",
      "Zettabyte File System (ZFS), and the highly developed X Windows-based\n",
      " KDE and Gnome GUI desktop environments\"/>\n",
      "       <p class=\"book_name\">\n",
      "        <a href=\"https://www.google.com/search?q=Unix+the+textbook+by+mansoor&amp;rlz=1C1CHBD_enPK987PK987&amp;oq=unix+the+textbook+by+mansoor&amp;aqs=chrome.0.69i59j69i57j69i59j69i60l5.4419j0j7&amp;sourceid=chrome&amp;ie=UTF-8\" target=\"_blank\">\n",
      "         UNIX The Textbook\n",
      "         By Syed Mansoor Sarwar\n",
      "        </a>\n",
      "       </p>\n",
      "       <div class=\"align-left\">\n",
      "        <p class=\"price green\">\n",
      "         Rs.5000\n",
      "        </p>\n",
      "        <p class=\"stock in_stock\" data-stock=\"in stock\">\n",
      "         <i aria-hidden=\"true\" class=\"fa fa-check\">\n",
      "         </i>\n",
      "         In stock\n",
      "        </p>\n",
      "        <div>\n",
      "         <span class=\"fa fa-star\">\n",
      "         </span>\n",
      "         <span class=\"fa fa-star\">\n",
      "         </span>\n",
      "         <span class=\"fa fa-star\">\n",
      "         </span>\n",
      "         <span class=\"fa fa-star\">\n",
      "         </span>\n",
      "         <span class=\"fa fa-star\">\n",
      "         </span>\n",
      "        </div>\n",
      "        <p class=\"review green\" data-rating=\"100\">\n",
      "         100 Reviews\n",
      "        </p>\n",
      "        <button>\n",
      "         Add to cart\n",
      "        </button>\n",
      "       </div>\n",
      "      </div>\n",
      "      <div class=\"book_container col-sm-4\">\n",
      "       <img alt=\"\" src=\"images/taxonomy.jpg\" title=\"Intrusion Detection using System Call Sequence\"/>\n",
      "       <p class=\"book_name\">\n",
      "        <a href=\"https://www.amazon.in/Taxonomy-Ids-Arif-Butt/dp/3639294092\" target=\"_blank\">\n",
      "         Taxonomy of IDS\n",
      "         By Arif Butt\n",
      "        </a>\n",
      "       </p>\n",
      "       <div class=\"align-left\">\n",
      "        <p class=\"price green\">\n",
      "         Rs.6900\n",
      "        </p>\n",
      "        <p class=\"stock not_stock\" data-stock=\"not in stock\">\n",
      "         <i aria-hidden=\"true\" class=\"fa fa-times\">\n",
      "         </i>\n",
      "         Not in stock\n",
      "        </p>\n",
      "        <div>\n",
      "         <span class=\"fa fa-star\">\n",
      "         </span>\n",
      "         <span class=\"fa fa-star\">\n",
      "         </span>\n",
      "         <span class=\"fa fa-star\">\n",
      "         </span>\n",
      "         <span class=\"fa fa-star\">\n",
      "         </span>\n",
      "         <span class=\"fa fa-star not_filled\">\n",
      "         </span>\n",
      "        </div>\n",
      "        <p class=\"review green\" data-rating=\"20\">\n",
      "         20 Reviews\n",
      "        </p>\n",
      "        <button>\n",
      "         Add to cart\n",
      "        </button>\n",
      "       </div>\n",
      "      </div>\n",
      "      <div class=\"book_container col-sm-4\">\n",
      "       <img alt=\"\" src=\"images/understanding OS.jpg\" title=\"This book approaches the LINUX environment as a programming\n",
      " companion. No previous exposure to LINUX is necessary to utilize\n",
      " this text.\"/>\n",
      "       <p class=\"book_name\">\n",
      "        <a href=\"https://www.amazon.com/Understanding-Operating-Systems-Ann-McHoes/dp/1305674251\" target=\"_blank\">\n",
      "         Understanding operating systems\n",
      "         By Ida Flynn\n",
      "        </a>\n",
      "       </p>\n",
      "       <div class=\"align-left\">\n",
      "        <p class=\"price green\">\n",
      "         Rs.2700\n",
      "        </p>\n",
      "        <p class=\"stock not_stock\" data-stock=\"not in stock\">\n",
      "         <i aria-hidden=\"true\" class=\"fa fa-times\">\n",
      "         </i>\n",
      "         Not in stock\n",
      "        </p>\n",
      "        <div>\n",
      "         <span class=\"fa fa-star\">\n",
      "         </span>\n",
      "         <span class=\"fa fa-star\">\n",
      "         </span>\n",
      "         <span class=\"fa fa-star not_filled\">\n",
      "         </span>\n",
      "         <span class=\"fa fa-star not_filled\">\n",
      "         </span>\n",
      "         <span class=\"fa fa-star not_filled\">\n",
      "         </span>\n",
      "        </div>\n",
      "        <p class=\"review green\" data-rating=\"60\">\n",
      "         60 Reviews\n",
      "        </p>\n",
      "        <button>\n",
      "         Add to cart\n",
      "        </button>\n",
      "       </div>\n",
      "      </div>\n",
      "      <div class=\"book_container col-sm-4\">\n",
      "       <img alt=\"\" src=\"images/Computer Systems.jpg\" title=\"It covers computers' data representation, explains how computer architecture\n",
      " and its underlying meaning changed over the years, and examines\n",
      " the implementations and performance enhancements of the central processing unit (CPU).\"/>\n",
      "       <p class=\"book_name\">\n",
      "        <a href=\"https://www.goodreads.com/book/show/829182.Computer_Systems\" target=\"_blank\">\n",
      "         Computer Systems\n",
      "         By Randal E. Bryant\n",
      "        </a>\n",
      "       </p>\n",
      "       <div class=\"align-left\">\n",
      "        <p class=\"price green\">\n",
      "         Rs.1700\n",
      "        </p>\n",
      "        <p class=\"stock in_stock\" data-stock=\"in stock\">\n",
      "         <i aria-hidden=\"true\" class=\"fa fa-check\">\n",
      "         </i>\n",
      "         In stock\n",
      "        </p>\n",
      "        <div>\n",
      "         <span class=\"fa fa-star\">\n",
      "         </span>\n",
      "         <span class=\"fa fa-star\">\n",
      "         </span>\n",
      "         <span class=\"fa fa-star not_filled\">\n",
      "         </span>\n",
      "         <span class=\"fa fa-star not_filled\">\n",
      "         </span>\n",
      "         <span class=\"fa fa-star not_filled\">\n",
      "         </span>\n",
      "        </div>\n",
      "        <p class=\"review green\" data-rating=\"25\">\n",
      "         25 Reviews\n",
      "        </p>\n",
      "        <button>\n",
      "         Add to cart\n",
      "        </button>\n",
      "       </div>\n",
      "      </div>\n",
      "      <div class=\"book_container col-sm-4\">\n",
      "       <img alt=\"\" src=\"images/linux bible.jpg\" title=\"It includes information on cloud computing, with new guidance on containerization,\n",
      " Ansible automation, and Kubernetes and OpenShift. With a\n",
      " focus on RHEL 8\"/>\n",
      "       <p class=\"book_name\">\n",
      "        <a href=\"https://www.amazon.com/Linux-Bible-Christopher-Negus/dp/111821854X\" target=\"_blank\">\n",
      "         Linux bible\n",
      "         Book By Christopher Negus\n",
      "        </a>\n",
      "       </p>\n",
      "       <div class=\"align-left\">\n",
      "        <p class=\"price green\">\n",
      "         Rs.1800\n",
      "        </p>\n",
      "        <p class=\"stock not_stock\" data-stock=\"not in stock\">\n",
      "         <i aria-hidden=\"true\" class=\"fa fa-times\">\n",
      "         </i>\n",
      "         Not in stock\n",
      "        </p>\n",
      "        <div>\n",
      "         <span class=\"fa fa-star\">\n",
      "         </span>\n",
      "         <span class=\"fa fa-star not_filled\">\n",
      "         </span>\n",
      "         <span class=\"fa fa-star not_filled\">\n",
      "         </span>\n",
      "         <span class=\"fa fa-star not_filled\">\n",
      "         </span>\n",
      "         <span class=\"fa fa-star not_filled\">\n",
      "         </span>\n",
      "        </div>\n",
      "        <p class=\"review green\" data-rating=\"21\">\n",
      "         21 Reviews\n",
      "        </p>\n",
      "        <button>\n",
      "         Add to cart\n",
      "        </button>\n",
      "       </div>\n",
      "      </div>\n",
      "      <div class=\"book_container col-sm-4\">\n",
      "       <img alt=\"\" src=\"images/advanced programming in unix.jpg\" title=\"This book approaches the LINUX environment as a programming\n",
      " companion. No previous exposure to LINUX is necessary to utilize\n",
      " this text.\"/>\n",
      "       <p class=\"book_name\">\n",
      "        <a href=\"https://www.amazon.com/dp/0321637739?tag=uuid10-20\" target=\"_blank\">\n",
      "         Advanced Programming in the UNIX Environment\n",
      "         By W. Stevans\n",
      "        </a>\n",
      "       </p>\n",
      "       <div class=\"align-left\">\n",
      "        <p class=\"price green\">\n",
      "         Rs.6000\n",
      "        </p>\n",
      "        <p class=\"stock in_stock\" data-stock=\"in stock\">\n",
      "         <i aria-hidden=\"true\" class=\"fa fa-check\">\n",
      "         </i>\n",
      "         In stock\n",
      "        </p>\n",
      "        <div>\n",
      "         <span class=\"fa fa-star\">\n",
      "         </span>\n",
      "         <span class=\"fa fa-star not_filled\">\n",
      "         </span>\n",
      "         <span class=\"fa fa-star not_filled\">\n",
      "         </span>\n",
      "         <span class=\"fa fa-star not_filled\">\n",
      "         </span>\n",
      "         <span class=\"fa fa-star not_filled\">\n",
      "         </span>\n",
      "        </div>\n",
      "        <p class=\"review green\" data-rating=\"40\">\n",
      "         40 Reviews\n",
      "        </p>\n",
      "        <button>\n",
      "         Add to cart\n",
      "        </button>\n",
      "       </div>\n",
      "      </div>\n",
      "      <div class=\"book_container col-sm-4\">\n",
      "       <img alt=\"\" src=\"images/OS a design appraoch.png\" title=\"It covers computers' data representation, explains how computer architecture\n",
      " and its underlying meaning changed over the years, and examines\n",
      " the implementations and performance enhancements of the central processing unit (CPU).\"/>\n",
      "       <p class=\"book_name\">\n",
      "        <a href=\"https://www.amazon.com/s?k=Operating+Systems%3A+A+Design-oriented+Approach&amp;i=stripbooks-intl-ship&amp;ref=nb_sb_noss\" target=\"_blank\">\n",
      "         Operating Systems: A Design-oriented Approach\n",
      "         By Charles Patrick Crowley\n",
      "        </a>\n",
      "       </p>\n",
      "       <div class=\"align-left\">\n",
      "        <p class=\"price green\">\n",
      "         Rs.1000\n",
      "        </p>\n",
      "        <p class=\"stock in_stock\" data-stock=\"in stock\">\n",
      "         <i aria-hidden=\"true\" class=\"fa fa-check\">\n",
      "         </i>\n",
      "         In stock\n",
      "        </p>\n",
      "        <div>\n",
      "         <span class=\"fa fa-star\">\n",
      "         </span>\n",
      "         <span class=\"fa fa-star\">\n",
      "         </span>\n",
      "         <span class=\"fa fa-star\">\n",
      "         </span>\n",
      "         <span class=\"fa fa-star not_filled\">\n",
      "         </span>\n",
      "         <span class=\"fa fa-star not_filled\">\n",
      "         </span>\n",
      "        </div>\n",
      "        <p class=\"review green\" data-rating=\"90\">\n",
      "         90 Reviews\n",
      "        </p>\n",
      "        <button>\n",
      "         Add to cart\n",
      "        </button>\n",
      "       </div>\n",
      "      </div>\n",
      "      <div class=\"book_container col-sm-4\">\n",
      "       <img alt=\"\" src=\"images/hands on network programming.jpg\" title=\"It includes information on cloud computing, with new guidance on containerization,\n",
      " Ansible automation, and Kubernetes and OpenShift. With a\n",
      " focus on RHEL 8\"/>\n",
      "       <p class=\"book_name\">\n",
      "        <a href=\"https://www.amazon.com/Hands-Network-Programming-programming-optimized/dp/1789349869/ref=sr_1_1?crid=11FC0M0GAFA21&amp;&amp;keywords=unix+network+programming+2019&amp;&amp;qid=1653381349&amp;&amp;s=books&amp;&amp;sprefix=unix+network+programming+2019%2Cstripbooks-intl-ship%2C356&amp;&amp;sr=1-1\" target=\"_blank\">\n",
      "         Hands-On Network Programming with C\n",
      "         By Lewis Van Winkle\n",
      "        </a>\n",
      "       </p>\n",
      "       <div class=\"align-left\">\n",
      "        <p class=\"price green\">\n",
      "         Rs.1800\n",
      "        </p>\n",
      "        <p class=\"stock in_stock\" data-stock=\"in stock\">\n",
      "         <i aria-hidden=\"true\" class=\"fa fa-check\">\n",
      "         </i>\n",
      "         In stock\n",
      "        </p>\n",
      "        <div>\n",
      "         <span class=\"fa fa-star\">\n",
      "         </span>\n",
      "         <span class=\"fa fa-star\">\n",
      "         </span>\n",
      "         <span class=\"fa fa-star\">\n",
      "         </span>\n",
      "         <span class=\"fa fa-star\">\n",
      "         </span>\n",
      "         <span class=\"fa fa-star not_filled\">\n",
      "         </span>\n",
      "        </div>\n",
      "        <p class=\"review green\" data-rating=\"70\">\n",
      "         70 Reviews\n",
      "        </p>\n",
      "        <button>\n",
      "         Add to cart\n",
      "        </button>\n",
      "       </div>\n",
      "      </div>\n",
      "     </div>\n",
      "    </div>\n",
      "   </div>\n",
      "  </section>\n",
      "  <script crossorigin=\"anonymous\" integrity=\"sha384-pprn3073KE6tl6bjs2QrFaJGz5/SUsLqktiwsUTF55Jfv3qYSDhgCecCxMW52nD2\" src=\"https://cdn.jsdelivr.net/npm/bootstrap@5.2.0-beta1/dist/js/bootstrap.bundle.min.js\">\n",
      "  </script>\n",
      " </body>\n",
      "</html>\n",
      "\n"
     ]
    }
   ],
   "source": [
    "print(soup.prettify())"
   ]
  },
  {
   "cell_type": "markdown",
   "metadata": {},
   "source": [
    "### Object Inside SOup Object"
   ]
  },
  {
   "cell_type": "markdown",
   "metadata": {},
   "source": [
    "#### Tag Object"
   ]
  },
  {
   "cell_type": "code",
   "execution_count": 25,
   "metadata": {},
   "outputs": [
    {
     "data": {
      "text/plain": [
       "<header class=\"header d-flex align-items-center justify-content-between\">\n",
       "<img alt=\"arif\" class=\"image-container\" src=\"./images//arif.jpg\"/>\n",
       "<p> <span class=\"large_text\">Books Scraping Site</span></p>\n",
       "<img alt=\"pucit\" class=\"image-container\" src=\"./images/pucit.jpg\"/>\n",
       "</header>"
      ]
     },
     "execution_count": 25,
     "metadata": {},
     "output_type": "execute_result"
    }
   ],
   "source": [
    "# get first tag with desenders\n",
    "\n",
    "soup.header"
   ]
  },
  {
   "cell_type": "code",
   "execution_count": 26,
   "metadata": {},
   "outputs": [
    {
     "data": {
      "text/plain": [
       "<p> <span class=\"large_text\">Books Scraping Site</span></p>"
      ]
     },
     "execution_count": 26,
     "metadata": {},
     "output_type": "execute_result"
    }
   ],
   "source": [
    "soup.p"
   ]
  },
  {
   "cell_type": "markdown",
   "metadata": {},
   "source": [
    "#### Attribute Objects\n",
    "- To get attrbutes of that tag"
   ]
  },
  {
   "cell_type": "code",
   "execution_count": 27,
   "metadata": {},
   "outputs": [
    {
     "data": {
      "text/plain": [
       "{}"
      ]
     },
     "execution_count": 27,
     "metadata": {},
     "output_type": "execute_result"
    }
   ],
   "source": [
    "soup.p.attrs"
   ]
  },
  {
   "cell_type": "code",
   "execution_count": 28,
   "metadata": {},
   "outputs": [
    {
     "data": {
      "text/plain": [
       "{'class': ['image-container'], 'src': './images//arif.jpg', 'alt': 'arif'}"
      ]
     },
     "execution_count": 28,
     "metadata": {},
     "output_type": "execute_result"
    }
   ],
   "source": [
    "soup.img.attrs"
   ]
  },
  {
   "cell_type": "markdown",
   "metadata": {},
   "source": [
    "### String Object"
   ]
  },
  {
   "cell_type": "code",
   "execution_count": 31,
   "metadata": {},
   "outputs": [
    {
     "data": {
      "text/plain": [
       "'BSS2'"
      ]
     },
     "execution_count": 31,
     "metadata": {},
     "output_type": "execute_result"
    }
   ],
   "source": [
    "soup.title.string"
   ]
  },
  {
   "cell_type": "markdown",
   "metadata": {},
   "source": [
    "### Navigating the Tree of a Soup Object"
   ]
  },
  {
   "cell_type": "code",
   "execution_count": 37,
   "metadata": {},
   "outputs": [
    {
     "data": {
      "text/plain": [
       "<a href=\"index.html\">Operating System</a>"
      ]
     },
     "execution_count": 37,
     "metadata": {},
     "output_type": "execute_result"
    }
   ],
   "source": [
    "soup.body.a"
   ]
  },
  {
   "cell_type": "code",
   "execution_count": 38,
   "metadata": {},
   "outputs": [
    {
     "data": {
      "text/plain": [
       "<li class=\"link book_type\"><a href=\"index.html\">Operating System</a></li>"
      ]
     },
     "execution_count": 38,
     "metadata": {},
     "output_type": "execute_result"
    }
   ],
   "source": [
    "soup.body.a.parent"
   ]
  },
  {
   "cell_type": "code",
   "execution_count": 45,
   "metadata": {},
   "outputs": [
    {
     "data": {
      "text/plain": [
       "<ul class=\"nav-links\">\n",
       "<div class=\"link text-center\" id=\"book_title\">Books Titles</div>\n",
       "<li class=\"link book_type\"><a href=\"index.html\">Operating System</a></li>\n",
       "<li class=\"link book_type\"><a href=\"SP.html\">System Programming</a></li>\n",
       "<li class=\"link book_type\"><a href=\"CA.html\">Computer Architecture</a></li>\n",
       "</ul>"
      ]
     },
     "execution_count": 45,
     "metadata": {},
     "output_type": "execute_result"
    }
   ],
   "source": [
    "soup.body.a.parent.parent"
   ]
  },
  {
   "cell_type": "code",
   "execution_count": null,
   "metadata": {},
   "outputs": [
    {
     "data": {
      "text/plain": [
       "<list_iterator at 0x1e0900b3c70>"
      ]
     },
     "execution_count": 47,
     "metadata": {},
     "output_type": "execute_result"
    }
   ],
   "source": [
    "# return direct child \n",
    "soup.body.ul.children"
   ]
  },
  {
   "cell_type": "code",
   "execution_count": 48,
   "metadata": {},
   "outputs": [
    {
     "name": "stdout",
     "output_type": "stream",
     "text": [
      "\n",
      "\n",
      "<div class=\"link text-center\" id=\"book_title\">Books Titles</div>\n",
      "\n",
      "\n",
      "<li class=\"link book_type\"><a href=\"index.html\">Operating System</a></li>\n",
      "\n",
      "\n",
      "<li class=\"link book_type\"><a href=\"SP.html\">System Programming</a></li>\n",
      "\n",
      "\n",
      "<li class=\"link book_type\"><a href=\"CA.html\">Computer Architecture</a></li>\n",
      "\n",
      "\n"
     ]
    }
   ],
   "source": [
    "for tag in soup.body.ul.children:\n",
    "    print(tag)"
   ]
  },
  {
   "cell_type": "markdown",
   "metadata": {},
   "source": [
    "### FIND METHOD"
   ]
  },
  {
   "cell_type": "code",
   "execution_count": 58,
   "metadata": {},
   "outputs": [
    {
     "data": {
      "text/plain": [
       "<div class=\"navbar\">\n",
       "<ul class=\"nav-links\">\n",
       "<div class=\"link text-center\" id=\"book_title\">Books Titles</div>\n",
       "<li class=\"link book_type\"><a href=\"index.html\">Operating System</a></li>\n",
       "<li class=\"link book_type\"><a href=\"SP.html\">System Programming</a></li>\n",
       "<li class=\"link book_type\"><a href=\"CA.html\">Computer Architecture</a></li>\n",
       "</ul>\n",
       "</div>"
      ]
     },
     "execution_count": 58,
     "metadata": {},
     "output_type": "execute_result"
    }
   ],
   "source": [
    "# to find element div with class navbar\n",
    "soup.find('div', {'class': 'navbar'})"
   ]
  },
  {
   "cell_type": "code",
   "execution_count": 67,
   "metadata": {},
   "outputs": [
    {
     "data": {
      "text/plain": [
       "<li class=\"link book_type\"><a href=\"index.html\">Operating System</a></li>"
      ]
     },
     "execution_count": 67,
     "metadata": {},
     "output_type": "execute_result"
    }
   ],
   "source": [
    "soup.find('div', {'class': 'navbar'}).find(\"li\", {\"class\": \"link book_type\"})"
   ]
  },
  {
   "cell_type": "markdown",
   "metadata": {},
   "source": [
    "## FindAll Method"
   ]
  },
  {
   "cell_type": "code",
   "execution_count": 72,
   "metadata": {},
   "outputs": [
    {
     "data": {
      "text/plain": [
       "[<p class=\"price green\">Rs.2000</p>,\n",
       " <p class=\"price green\">Rs.5000</p>,\n",
       " <p class=\"price green\">Rs.6900</p>,\n",
       " <p class=\"price green\">Rs.2700</p>,\n",
       " <p class=\"price green\">Rs.1700</p>,\n",
       " <p class=\"price green\">Rs.1800</p>,\n",
       " <p class=\"price green\">Rs.6000</p>,\n",
       " <p class=\"price green\">Rs.1000</p>,\n",
       " <p class=\"price green\">Rs.1800</p>]"
      ]
     },
     "execution_count": 72,
     "metadata": {},
     "output_type": "execute_result"
    }
   ],
   "source": [
    "prices =soup.find_all(\"p\", {\"class\": \"price green\"})\n",
    "prices"
   ]
  },
  {
   "cell_type": "code",
   "execution_count": 73,
   "metadata": {},
   "outputs": [
    {
     "name": "stdout",
     "output_type": "stream",
     "text": [
      "Rs.2000\n",
      "Rs.5000\n",
      "Rs.6900\n",
      "Rs.2700\n",
      "Rs.1700\n",
      "Rs.1800\n",
      "Rs.6000\n",
      "Rs.1000\n",
      "Rs.1800\n"
     ]
    }
   ],
   "source": [
    "for price in prices:\n",
    "    print(price.text)"
   ]
  },
  {
   "cell_type": "code",
   "execution_count": 75,
   "metadata": {},
   "outputs": [
    {
     "name": "stdout",
     "output_type": "stream",
     "text": [
      "20 Reviews\n",
      "100 Reviews\n",
      "20 Reviews\n",
      "60 Reviews\n",
      "25 Reviews\n",
      "21 Reviews\n",
      "40 Reviews\n",
      "90 Reviews\n",
      "70 Reviews\n"
     ]
    }
   ],
   "source": [
    "# getting all reviews\n",
    "for review in soup.find_all(\"p\", {\"class\": \"review green\"}):\n",
    "    print(review.text)"
   ]
  },
  {
   "cell_type": "markdown",
   "metadata": {},
   "source": [
    "### Scraping Data of a Single Page"
   ]
  },
  {
   "cell_type": "markdown",
   "metadata": {},
   "source": [
    "#### Getting Titles of Book"
   ]
  },
  {
   "cell_type": "code",
   "execution_count": 76,
   "metadata": {},
   "outputs": [
    {
     "data": {
      "text/plain": [
       "[<p class=\"book_name\"><a href=\"https://www.amazon.com/Operating-System-Concepts-Abridged-Companion/dp/1119456339\" target=\"_blank\">Operating System Concepts By Avi Silberschatz</a></p>,\n",
       " <p class=\"book_name\"><a href=\"https://www.google.com/search?q=Unix+the+textbook+by+mansoor&amp;rlz=1C1CHBD_enPK987PK987&amp;oq=unix+the+textbook+by+mansoor&amp;aqs=chrome.0.69i59j69i57j69i59j69i60l5.4419j0j7&amp;sourceid=chrome&amp;ie=UTF-8\" target=\"_blank\">UNIX The Textbook By Syed Mansoor Sarwar</a></p>,\n",
       " <p class=\"book_name\"><a href=\"https://www.amazon.in/Taxonomy-Ids-Arif-Butt/dp/3639294092\" target=\"_blank\">Taxonomy of IDS By Arif Butt</a></p>,\n",
       " <p class=\"book_name\"><a href=\"https://www.amazon.com/Understanding-Operating-Systems-Ann-McHoes/dp/1305674251\" target=\"_blank\">Understanding operating systems By Ida Flynn</a></p>,\n",
       " <p class=\"book_name\"><a href=\"https://www.goodreads.com/book/show/829182.Computer_Systems\" target=\"_blank\">Computer Systems  By Randal E. Bryant </a></p>,\n",
       " <p class=\"book_name\"><a href=\"https://www.amazon.com/Linux-Bible-Christopher-Negus/dp/111821854X\" target=\"_blank\">Linux bible  Book By Christopher Negus</a></p>,\n",
       " <p class=\"book_name\"><a href=\"https://www.amazon.com/dp/0321637739?tag=uuid10-20\" target=\"_blank\">Advanced Programming in the UNIX Environment  By W. Stevans</a></p>,\n",
       " <p class=\"book_name\"><a href=\"https://www.amazon.com/s?k=Operating+Systems%3A+A+Design-oriented+Approach&amp;i=stripbooks-intl-ship&amp;ref=nb_sb_noss\" target=\"_blank\">Operating Systems: A Design-oriented Approach By Charles Patrick Crowley</a></p>,\n",
       " <p class=\"book_name\"><a href=\"https://www.amazon.com/Hands-Network-Programming-programming-optimized/dp/1789349869/ref=sr_1_1?crid=11FC0M0GAFA21&amp;&amp;keywords=unix+network+programming+2019&amp;&amp;qid=1653381349&amp;&amp;s=books&amp;&amp;sprefix=unix+network+programming+2019%2Cstripbooks-intl-ship%2C356&amp;&amp;sr=1-1\" target=\"_blank\">Hands-On Network Programming with C  By Lewis Van Winkle</a></p>]"
      ]
     },
     "execution_count": 76,
     "metadata": {},
     "output_type": "execute_result"
    }
   ],
   "source": [
    "titles =soup.find_all(\"p\", {\"class\": \"book_name\"})\n",
    "titles\n"
   ]
  },
  {
   "cell_type": "code",
   "execution_count": 78,
   "metadata": {},
   "outputs": [],
   "source": [
    "t =[]\n",
    "for title in titles:\n",
    "    t.append(title.text)\n"
   ]
  },
  {
   "cell_type": "code",
   "execution_count": 79,
   "metadata": {},
   "outputs": [
    {
     "data": {
      "text/plain": [
       "['Operating System Concepts By Avi Silberschatz',\n",
       " 'UNIX The Textbook By Syed Mansoor Sarwar',\n",
       " 'Taxonomy of IDS By Arif Butt',\n",
       " 'Understanding operating systems By Ida Flynn',\n",
       " 'Computer Systems  By Randal E. Bryant ',\n",
       " 'Linux bible  Book By Christopher Negus',\n",
       " 'Advanced Programming in the UNIX Environment  By W. Stevans',\n",
       " 'Operating Systems: A Design-oriented Approach By Charles Patrick Crowley',\n",
       " 'Hands-On Network Programming with C  By Lewis Van Winkle']"
      ]
     },
     "execution_count": 79,
     "metadata": {},
     "output_type": "execute_result"
    }
   ],
   "source": [
    "t"
   ]
  },
  {
   "cell_type": "markdown",
   "metadata": {},
   "source": [
    "#### Getting Titles of Books"
   ]
  },
  {
   "cell_type": "code",
   "execution_count": 89,
   "metadata": {},
   "outputs": [
    {
     "data": {
      "text/plain": [
       "[<p class=\"book_name\"><a href=\"https://www.amazon.com/Operating-System-Concepts-Abridged-Companion/dp/1119456339\" target=\"_blank\">Operating System Concepts By Avi Silberschatz</a></p>,\n",
       " <p class=\"book_name\"><a href=\"https://www.google.com/search?q=Unix+the+textbook+by+mansoor&amp;rlz=1C1CHBD_enPK987PK987&amp;oq=unix+the+textbook+by+mansoor&amp;aqs=chrome.0.69i59j69i57j69i59j69i60l5.4419j0j7&amp;sourceid=chrome&amp;ie=UTF-8\" target=\"_blank\">UNIX The Textbook By Syed Mansoor Sarwar</a></p>,\n",
       " <p class=\"book_name\"><a href=\"https://www.amazon.in/Taxonomy-Ids-Arif-Butt/dp/3639294092\" target=\"_blank\">Taxonomy of IDS By Arif Butt</a></p>,\n",
       " <p class=\"book_name\"><a href=\"https://www.amazon.com/Understanding-Operating-Systems-Ann-McHoes/dp/1305674251\" target=\"_blank\">Understanding operating systems By Ida Flynn</a></p>,\n",
       " <p class=\"book_name\"><a href=\"https://www.goodreads.com/book/show/829182.Computer_Systems\" target=\"_blank\">Computer Systems  By Randal E. Bryant </a></p>,\n",
       " <p class=\"book_name\"><a href=\"https://www.amazon.com/Linux-Bible-Christopher-Negus/dp/111821854X\" target=\"_blank\">Linux bible  Book By Christopher Negus</a></p>,\n",
       " <p class=\"book_name\"><a href=\"https://www.amazon.com/dp/0321637739?tag=uuid10-20\" target=\"_blank\">Advanced Programming in the UNIX Environment  By W. Stevans</a></p>,\n",
       " <p class=\"book_name\"><a href=\"https://www.amazon.com/s?k=Operating+Systems%3A+A+Design-oriented+Approach&amp;i=stripbooks-intl-ship&amp;ref=nb_sb_noss\" target=\"_blank\">Operating Systems: A Design-oriented Approach By Charles Patrick Crowley</a></p>,\n",
       " <p class=\"book_name\"><a href=\"https://www.amazon.com/Hands-Network-Programming-programming-optimized/dp/1789349869/ref=sr_1_1?crid=11FC0M0GAFA21&amp;&amp;keywords=unix+network+programming+2019&amp;&amp;qid=1653381349&amp;&amp;s=books&amp;&amp;sprefix=unix+network+programming+2019%2Cstripbooks-intl-ship%2C356&amp;&amp;sr=1-1\" target=\"_blank\">Hands-On Network Programming with C  By Lewis Van Winkle</a></p>]"
      ]
     },
     "execution_count": 89,
     "metadata": {},
     "output_type": "execute_result"
    }
   ],
   "source": [
    "titles"
   ]
  },
  {
   "cell_type": "code",
   "execution_count": 90,
   "metadata": {},
   "outputs": [],
   "source": [
    "l =[]\n",
    "for i in titles:\n",
    "    l.append(i.a.attrs[\"href\"])\n",
    "    "
   ]
  },
  {
   "cell_type": "code",
   "execution_count": 91,
   "metadata": {},
   "outputs": [
    {
     "data": {
      "text/plain": [
       "['https://www.amazon.com/Operating-System-Concepts-Abridged-Companion/dp/1119456339',\n",
       " 'https://www.google.com/search?q=Unix+the+textbook+by+mansoor&rlz=1C1CHBD_enPK987PK987&oq=unix+the+textbook+by+mansoor&aqs=chrome.0.69i59j69i57j69i59j69i60l5.4419j0j7&sourceid=chrome&ie=UTF-8',\n",
       " 'https://www.amazon.in/Taxonomy-Ids-Arif-Butt/dp/3639294092',\n",
       " 'https://www.amazon.com/Understanding-Operating-Systems-Ann-McHoes/dp/1305674251',\n",
       " 'https://www.goodreads.com/book/show/829182.Computer_Systems',\n",
       " 'https://www.amazon.com/Linux-Bible-Christopher-Negus/dp/111821854X',\n",
       " 'https://www.amazon.com/dp/0321637739?tag=uuid10-20',\n",
       " 'https://www.amazon.com/s?k=Operating+Systems%3A+A+Design-oriented+Approach&i=stripbooks-intl-ship&ref=nb_sb_noss',\n",
       " 'https://www.amazon.com/Hands-Network-Programming-programming-optimized/dp/1789349869/ref=sr_1_1?crid=11FC0M0GAFA21&&keywords=unix+network+programming+2019&&qid=1653381349&&s=books&&sprefix=unix+network+programming+2019%2Cstripbooks-intl-ship%2C356&&sr=1-1']"
      ]
     },
     "execution_count": 91,
     "metadata": {},
     "output_type": "execute_result"
    }
   ],
   "source": [
    "l"
   ]
  },
  {
   "cell_type": "markdown",
   "metadata": {},
   "source": [
    "### Extracting Price"
   ]
  },
  {
   "cell_type": "code",
   "execution_count": 92,
   "metadata": {},
   "outputs": [
    {
     "data": {
      "text/plain": [
       "[<p class=\"price green\">Rs.2000</p>,\n",
       " <p class=\"price green\">Rs.5000</p>,\n",
       " <p class=\"price green\">Rs.6900</p>,\n",
       " <p class=\"price green\">Rs.2700</p>,\n",
       " <p class=\"price green\">Rs.1700</p>,\n",
       " <p class=\"price green\">Rs.1800</p>,\n",
       " <p class=\"price green\">Rs.6000</p>,\n",
       " <p class=\"price green\">Rs.1000</p>,\n",
       " <p class=\"price green\">Rs.1800</p>]"
      ]
     },
     "execution_count": 92,
     "metadata": {},
     "output_type": "execute_result"
    }
   ],
   "source": [
    "prices =soup.find_all(\"p\", {\"class\": \"price green\"})\n",
    "prices"
   ]
  },
  {
   "cell_type": "code",
   "execution_count": 95,
   "metadata": {},
   "outputs": [],
   "source": [
    "pr =[]\n",
    "for p in prices:\n",
    "    pr.append(p.text)"
   ]
  },
  {
   "cell_type": "code",
   "execution_count": 96,
   "metadata": {},
   "outputs": [
    {
     "data": {
      "text/plain": [
       "['Rs.2000',\n",
       " 'Rs.5000',\n",
       " 'Rs.6900',\n",
       " 'Rs.2700',\n",
       " 'Rs.1700',\n",
       " 'Rs.1800',\n",
       " 'Rs.6000',\n",
       " 'Rs.1000',\n",
       " 'Rs.1800']"
      ]
     },
     "execution_count": 96,
     "metadata": {},
     "output_type": "execute_result"
    }
   ],
   "source": [
    "pr"
   ]
  },
  {
   "cell_type": "markdown",
   "metadata": {},
   "source": [
    "#### Availiability of a Book"
   ]
  },
  {
   "cell_type": "code",
   "execution_count": 107,
   "metadata": {},
   "outputs": [],
   "source": [
    "aval =soup.find_all(\"p\", {\"class\" : \"stock\"})"
   ]
  },
  {
   "cell_type": "code",
   "execution_count": 108,
   "metadata": {},
   "outputs": [
    {
     "data": {
      "text/plain": [
       "[<p class=\"stock in_stock\" data-stock=\"in stock\"><i aria-hidden=\"true\" class=\"fa fa-check\"></i> In stock</p>,\n",
       " <p class=\"stock in_stock\" data-stock=\"in stock\"><i aria-hidden=\"true\" class=\"fa fa-check\"></i> In stock</p>,\n",
       " <p class=\"stock not_stock\" data-stock=\"not in stock\"><i aria-hidden=\"true\" class=\"fa fa-times\"></i> Not in stock</p>,\n",
       " <p class=\"stock not_stock\" data-stock=\"not in stock\"><i aria-hidden=\"true\" class=\"fa fa-times\"></i> Not in stock</p>,\n",
       " <p class=\"stock in_stock\" data-stock=\"in stock\"><i aria-hidden=\"true\" class=\"fa fa-check\"></i> In stock</p>,\n",
       " <p class=\"stock not_stock\" data-stock=\"not in stock\"><i aria-hidden=\"true\" class=\"fa fa-times\"></i> Not in stock</p>,\n",
       " <p class=\"stock in_stock\" data-stock=\"in stock\"><i aria-hidden=\"true\" class=\"fa fa-check\"></i> In stock</p>,\n",
       " <p class=\"stock in_stock\" data-stock=\"in stock\"><i aria-hidden=\"true\" class=\"fa fa-check\"></i> In stock</p>,\n",
       " <p class=\"stock in_stock\" data-stock=\"in stock\"><i aria-hidden=\"true\" class=\"fa fa-check\"></i> In stock</p>]"
      ]
     },
     "execution_count": 108,
     "metadata": {},
     "output_type": "execute_result"
    }
   ],
   "source": [
    "aval"
   ]
  },
  {
   "cell_type": "code",
   "execution_count": 109,
   "metadata": {},
   "outputs": [],
   "source": [
    "a =[]\n",
    "for av in aval:\n",
    "    a.append(av.text)\n"
   ]
  },
  {
   "cell_type": "code",
   "execution_count": 110,
   "metadata": {},
   "outputs": [
    {
     "data": {
      "text/plain": [
       "[' In stock',\n",
       " ' In stock',\n",
       " ' Not in stock',\n",
       " ' Not in stock',\n",
       " ' In stock',\n",
       " ' Not in stock',\n",
       " ' In stock',\n",
       " ' In stock',\n",
       " ' In stock']"
      ]
     },
     "execution_count": 110,
     "metadata": {},
     "output_type": "execute_result"
    }
   ],
   "source": [
    "a"
   ]
  },
  {
   "cell_type": "markdown",
   "metadata": {},
   "source": [
    "#### Extracting reviews"
   ]
  },
  {
   "cell_type": "code",
   "execution_count": 112,
   "metadata": {},
   "outputs": [
    {
     "data": {
      "text/plain": [
       "[<p class=\"review green\" data-rating=\"20\">20 Reviews</p>,\n",
       " <p class=\"review green\" data-rating=\"100\">100 Reviews</p>,\n",
       " <p class=\"review green\" data-rating=\"20\">20 Reviews</p>,\n",
       " <p class=\"review green\" data-rating=\"60\">60 Reviews</p>,\n",
       " <p class=\"review green\" data-rating=\"25\">25 Reviews</p>,\n",
       " <p class=\"review green\" data-rating=\"21\">21 Reviews</p>,\n",
       " <p class=\"review green\" data-rating=\"40\">40 Reviews</p>,\n",
       " <p class=\"review green\" data-rating=\"90\">90 Reviews</p>,\n",
       " <p class=\"review green\" data-rating=\"70\">70 Reviews</p>]"
      ]
     },
     "execution_count": 112,
     "metadata": {},
     "output_type": "execute_result"
    }
   ],
   "source": [
    "reviews =soup.find_all('p', {\"class\": \"review\"})\n",
    "reviews"
   ]
  },
  {
   "cell_type": "code",
   "execution_count": 118,
   "metadata": {},
   "outputs": [],
   "source": [
    "re =[]\n",
    "for r in reviews:\n",
    "    re.append(r.attrs[\"data-rating\"])"
   ]
  },
  {
   "cell_type": "code",
   "execution_count": 119,
   "metadata": {},
   "outputs": [
    {
     "data": {
      "text/plain": [
       "['20', '100', '20', '60', '25', '21', '40', '90', '70']"
      ]
     },
     "execution_count": 119,
     "metadata": {},
     "output_type": "execute_result"
    }
   ],
   "source": [
    "re"
   ]
  },
  {
   "cell_type": "markdown",
   "metadata": {},
   "source": [
    "#### Getting Stars Count"
   ]
  },
  {
   "cell_type": "code",
   "execution_count": 128,
   "metadata": {},
   "outputs": [
    {
     "data": {
      "text/plain": [
       "[<div class=\"align-left\">\n",
       " <p class=\"price green\">Rs.2000</p>\n",
       " <p class=\"stock in_stock\" data-stock=\"in stock\"><i aria-hidden=\"true\" class=\"fa fa-check\"></i> In stock</p>\n",
       " <div><span class=\"fa fa-star\"></span><span class=\"fa fa-star\"></span><span class=\"fa fa-star\"></span><span class=\"fa fa-star not_filled\"></span><span class=\"fa fa-star not_filled\"></span></div>\n",
       " <p class=\"review green\" data-rating=\"20\">20 Reviews</p>\n",
       " <button>Add to cart</button>\n",
       " </div>,\n",
       " <div class=\"align-left\">\n",
       " <p class=\"price green\">Rs.5000</p>\n",
       " <p class=\"stock in_stock\" data-stock=\"in stock\"><i aria-hidden=\"true\" class=\"fa fa-check\"></i> In stock</p>\n",
       " <div><span class=\"fa fa-star\"></span><span class=\"fa fa-star\"></span><span class=\"fa fa-star\"></span><span class=\"fa fa-star\"></span><span class=\"fa fa-star\"></span></div>\n",
       " <p class=\"review green\" data-rating=\"100\">100 Reviews</p>\n",
       " <button>Add to cart</button>\n",
       " </div>,\n",
       " <div class=\"align-left\">\n",
       " <p class=\"price green\">Rs.6900</p>\n",
       " <p class=\"stock not_stock\" data-stock=\"not in stock\"><i aria-hidden=\"true\" class=\"fa fa-times\"></i> Not in stock</p>\n",
       " <div><span class=\"fa fa-star\"></span><span class=\"fa fa-star\"></span><span class=\"fa fa-star\"></span><span class=\"fa fa-star\"></span><span class=\"fa fa-star not_filled\"></span></div>\n",
       " <p class=\"review green\" data-rating=\"20\">20 Reviews</p>\n",
       " <button>Add to cart</button>\n",
       " </div>,\n",
       " <div class=\"align-left\">\n",
       " <p class=\"price green\">Rs.2700</p>\n",
       " <p class=\"stock not_stock\" data-stock=\"not in stock\"><i aria-hidden=\"true\" class=\"fa fa-times\"></i> Not in stock</p>\n",
       " <div><span class=\"fa fa-star\"></span><span class=\"fa fa-star\"></span><span class=\"fa fa-star not_filled\"></span><span class=\"fa fa-star not_filled\"></span><span class=\"fa fa-star not_filled\"></span></div>\n",
       " <p class=\"review green\" data-rating=\"60\">60 Reviews</p>\n",
       " <button>Add to cart</button>\n",
       " </div>,\n",
       " <div class=\"align-left\">\n",
       " <p class=\"price green\">Rs.1700</p>\n",
       " <p class=\"stock in_stock\" data-stock=\"in stock\"><i aria-hidden=\"true\" class=\"fa fa-check\"></i> In stock</p>\n",
       " <div><span class=\"fa fa-star\"></span><span class=\"fa fa-star\"></span><span class=\"fa fa-star not_filled\"></span><span class=\"fa fa-star not_filled\"></span><span class=\"fa fa-star not_filled\"></span></div>\n",
       " <p class=\"review green\" data-rating=\"25\">25 Reviews</p>\n",
       " <button>Add to cart</button>\n",
       " </div>,\n",
       " <div class=\"align-left\">\n",
       " <p class=\"price green\">Rs.1800</p>\n",
       " <p class=\"stock not_stock\" data-stock=\"not in stock\"><i aria-hidden=\"true\" class=\"fa fa-times\"></i> Not in stock</p>\n",
       " <div><span class=\"fa fa-star\"></span><span class=\"fa fa-star not_filled\"></span><span class=\"fa fa-star not_filled\"></span><span class=\"fa fa-star not_filled\"></span><span class=\"fa fa-star not_filled\"></span></div>\n",
       " <p class=\"review green\" data-rating=\"21\">21 Reviews</p>\n",
       " <button>Add to cart</button>\n",
       " </div>,\n",
       " <div class=\"align-left\">\n",
       " <p class=\"price green\">Rs.6000</p>\n",
       " <p class=\"stock in_stock\" data-stock=\"in stock\"><i aria-hidden=\"true\" class=\"fa fa-check\"></i> In stock</p>\n",
       " <div><span class=\"fa fa-star\"></span><span class=\"fa fa-star not_filled\"></span><span class=\"fa fa-star not_filled\"></span><span class=\"fa fa-star not_filled\"></span><span class=\"fa fa-star not_filled\"></span></div>\n",
       " <p class=\"review green\" data-rating=\"40\">40 Reviews</p>\n",
       " <button>Add to cart</button>\n",
       " </div>,\n",
       " <div class=\"align-left\">\n",
       " <p class=\"price green\">Rs.1000</p>\n",
       " <p class=\"stock in_stock\" data-stock=\"in stock\"><i aria-hidden=\"true\" class=\"fa fa-check\"></i> In stock</p>\n",
       " <div><span class=\"fa fa-star\"></span><span class=\"fa fa-star\"></span><span class=\"fa fa-star\"></span><span class=\"fa fa-star not_filled\"></span><span class=\"fa fa-star not_filled\"></span></div>\n",
       " <p class=\"review green\" data-rating=\"90\">90 Reviews</p>\n",
       " <button>Add to cart</button>\n",
       " </div>,\n",
       " <div class=\"align-left\">\n",
       " <p class=\"price green\">Rs.1800</p>\n",
       " <p class=\"stock in_stock\" data-stock=\"in stock\"><i aria-hidden=\"true\" class=\"fa fa-check\"></i> In stock</p>\n",
       " <div><span class=\"fa fa-star\"></span><span class=\"fa fa-star\"></span><span class=\"fa fa-star\"></span><span class=\"fa fa-star\"></span><span class=\"fa fa-star not_filled\"></span></div>\n",
       " <p class=\"review green\" data-rating=\"70\">70 Reviews</p>\n",
       " <button>Add to cart</button>\n",
       " </div>]"
      ]
     },
     "execution_count": 128,
     "metadata": {},
     "output_type": "execute_result"
    }
   ],
   "source": [
    "divs =soup.find_all(\"div\", {\"class\": \"align-left\"})\n",
    "divs"
   ]
  },
  {
   "cell_type": "code",
   "execution_count": 129,
   "metadata": {},
   "outputs": [],
   "source": [
    "div =[]\n",
    "for i in divs:\n",
    "    div.append(i.div)"
   ]
  },
  {
   "cell_type": "code",
   "execution_count": 130,
   "metadata": {},
   "outputs": [
    {
     "data": {
      "text/plain": [
       "[<div><span class=\"fa fa-star\"></span><span class=\"fa fa-star\"></span><span class=\"fa fa-star\"></span><span class=\"fa fa-star not_filled\"></span><span class=\"fa fa-star not_filled\"></span></div>,\n",
       " <div><span class=\"fa fa-star\"></span><span class=\"fa fa-star\"></span><span class=\"fa fa-star\"></span><span class=\"fa fa-star\"></span><span class=\"fa fa-star\"></span></div>,\n",
       " <div><span class=\"fa fa-star\"></span><span class=\"fa fa-star\"></span><span class=\"fa fa-star\"></span><span class=\"fa fa-star\"></span><span class=\"fa fa-star not_filled\"></span></div>,\n",
       " <div><span class=\"fa fa-star\"></span><span class=\"fa fa-star\"></span><span class=\"fa fa-star not_filled\"></span><span class=\"fa fa-star not_filled\"></span><span class=\"fa fa-star not_filled\"></span></div>,\n",
       " <div><span class=\"fa fa-star\"></span><span class=\"fa fa-star\"></span><span class=\"fa fa-star not_filled\"></span><span class=\"fa fa-star not_filled\"></span><span class=\"fa fa-star not_filled\"></span></div>,\n",
       " <div><span class=\"fa fa-star\"></span><span class=\"fa fa-star not_filled\"></span><span class=\"fa fa-star not_filled\"></span><span class=\"fa fa-star not_filled\"></span><span class=\"fa fa-star not_filled\"></span></div>,\n",
       " <div><span class=\"fa fa-star\"></span><span class=\"fa fa-star not_filled\"></span><span class=\"fa fa-star not_filled\"></span><span class=\"fa fa-star not_filled\"></span><span class=\"fa fa-star not_filled\"></span></div>,\n",
       " <div><span class=\"fa fa-star\"></span><span class=\"fa fa-star\"></span><span class=\"fa fa-star\"></span><span class=\"fa fa-star not_filled\"></span><span class=\"fa fa-star not_filled\"></span></div>,\n",
       " <div><span class=\"fa fa-star\"></span><span class=\"fa fa-star\"></span><span class=\"fa fa-star\"></span><span class=\"fa fa-star\"></span><span class=\"fa fa-star not_filled\"></span></div>]"
      ]
     },
     "execution_count": 130,
     "metadata": {},
     "output_type": "execute_result"
    }
   ],
   "source": [
    "div"
   ]
  },
  {
   "cell_type": "code",
   "execution_count": 132,
   "metadata": {},
   "outputs": [
    {
     "data": {
      "text/plain": [
       "[3, 5, 4, 2, 2, 1, 1, 3, 4]"
      ]
     },
     "execution_count": 132,
     "metadata": {},
     "output_type": "execute_result"
    }
   ],
   "source": [
    "count =[]\n",
    "for i in div:\n",
    "    c =i.find_all('span', {\"class\": \"fa fa-star\"})\n",
    "    count.append(len(c))\n",
    "count"
   ]
  },
  {
   "cell_type": "markdown",
   "metadata": {},
   "source": [
    "#### Displaying Output on Screen"
   ]
  },
  {
   "cell_type": "code",
   "execution_count": 140,
   "metadata": {},
   "outputs": [
    {
     "name": "stdout",
     "output_type": "stream",
     "text": [
      "Title Operating System Concepts By Avi Silberschatz\n",
      "Link https://www.amazon.com/Operating-System-Concepts-Abridged-Companion/dp/1119456339\n",
      "Prices Rs.2000\n",
      "Reviews 20\n",
      "Star Count 3\n",
      "------------------------------------------------------------------------------------------------------------------------\n",
      "Title UNIX The Textbook By Syed Mansoor Sarwar\n",
      "Link https://www.google.com/search?q=Unix+the+textbook+by+mansoor&rlz=1C1CHBD_enPK987PK987&oq=unix+the+textbook+by+mansoor&aqs=chrome.0.69i59j69i57j69i59j69i60l5.4419j0j7&sourceid=chrome&ie=UTF-8\n",
      "Prices Rs.5000\n",
      "Reviews 100\n",
      "Star Count 5\n",
      "------------------------------------------------------------------------------------------------------------------------\n",
      "Title Taxonomy of IDS By Arif Butt\n",
      "Link https://www.amazon.in/Taxonomy-Ids-Arif-Butt/dp/3639294092\n",
      "Prices Rs.6900\n",
      "Reviews 20\n",
      "Star Count 4\n",
      "------------------------------------------------------------------------------------------------------------------------\n",
      "Title Understanding operating systems By Ida Flynn\n",
      "Link https://www.amazon.com/Understanding-Operating-Systems-Ann-McHoes/dp/1305674251\n",
      "Prices Rs.2700\n",
      "Reviews 60\n",
      "Star Count 2\n",
      "------------------------------------------------------------------------------------------------------------------------\n",
      "Title Computer Systems  By Randal E. Bryant \n",
      "Link https://www.goodreads.com/book/show/829182.Computer_Systems\n",
      "Prices Rs.1700\n",
      "Reviews 25\n",
      "Star Count 2\n",
      "------------------------------------------------------------------------------------------------------------------------\n",
      "Title Linux bible  Book By Christopher Negus\n",
      "Link https://www.amazon.com/Linux-Bible-Christopher-Negus/dp/111821854X\n",
      "Prices Rs.1800\n",
      "Reviews 21\n",
      "Star Count 1\n",
      "------------------------------------------------------------------------------------------------------------------------\n",
      "Title Advanced Programming in the UNIX Environment  By W. Stevans\n",
      "Link https://www.amazon.com/dp/0321637739?tag=uuid10-20\n",
      "Prices Rs.6000\n",
      "Reviews 40\n",
      "Star Count 1\n",
      "------------------------------------------------------------------------------------------------------------------------\n",
      "Title Operating Systems: A Design-oriented Approach By Charles Patrick Crowley\n",
      "Link https://www.amazon.com/s?k=Operating+Systems%3A+A+Design-oriented+Approach&i=stripbooks-intl-ship&ref=nb_sb_noss\n",
      "Prices Rs.1000\n",
      "Reviews 90\n",
      "Star Count 3\n",
      "------------------------------------------------------------------------------------------------------------------------\n",
      "Title Hands-On Network Programming with C  By Lewis Van Winkle\n",
      "Link https://www.amazon.com/Hands-Network-Programming-programming-optimized/dp/1789349869/ref=sr_1_1?crid=11FC0M0GAFA21&&keywords=unix+network+programming+2019&&qid=1653381349&&s=books&&sprefix=unix+network+programming+2019%2Cstripbooks-intl-ship%2C356&&sr=1-1\n",
      "Prices Rs.1800\n",
      "Reviews 70\n",
      "Star Count 4\n",
      "------------------------------------------------------------------------------------------------------------------------\n"
     ]
    }
   ],
   "source": [
    "for i in range(9):\n",
    "    print(\"Title\", t[i])\n",
    "    print(\"Link\", l[i])\n",
    "    print(\"Prices\", pr[i])\n",
    "    print(\"Reviews\", re[i])\n",
    "    print(\"Star Count\", count[i])\n",
    "    print(\"------\" * 20)"
   ]
  },
  {
   "cell_type": "markdown",
   "metadata": {},
   "source": [
    "### Saving Data as CSV"
   ]
  },
  {
   "cell_type": "code",
   "execution_count": 141,
   "metadata": {},
   "outputs": [],
   "source": [
    "import pandas as pd"
   ]
  },
  {
   "cell_type": "code",
   "execution_count": 143,
   "metadata": {},
   "outputs": [
    {
     "data": {
      "text/html": [
       "<div>\n",
       "<style scoped>\n",
       "    .dataframe tbody tr th:only-of-type {\n",
       "        vertical-align: middle;\n",
       "    }\n",
       "\n",
       "    .dataframe tbody tr th {\n",
       "        vertical-align: top;\n",
       "    }\n",
       "\n",
       "    .dataframe thead th {\n",
       "        text-align: right;\n",
       "    }\n",
       "</style>\n",
       "<table border=\"1\" class=\"dataframe\">\n",
       "  <thead>\n",
       "    <tr style=\"text-align: right;\">\n",
       "      <th></th>\n",
       "      <th>Title/author</th>\n",
       "      <th>Price</th>\n",
       "      <th>Availability</th>\n",
       "      <th>Reviews</th>\n",
       "      <th>Links</th>\n",
       "      <th>Stars</th>\n",
       "    </tr>\n",
       "  </thead>\n",
       "  <tbody>\n",
       "    <tr>\n",
       "      <th>0</th>\n",
       "      <td>Operating System Concepts By Avi Silberschatz</td>\n",
       "      <td>Rs.2000</td>\n",
       "      <td>In stock</td>\n",
       "      <td>70 Reviews</td>\n",
       "      <td>https://www.amazon.com/Operating-System-Concep...</td>\n",
       "      <td>3</td>\n",
       "    </tr>\n",
       "    <tr>\n",
       "      <th>1</th>\n",
       "      <td>UNIX The Textbook By Syed Mansoor Sarwar</td>\n",
       "      <td>Rs.5000</td>\n",
       "      <td>In stock</td>\n",
       "      <td>70 Reviews</td>\n",
       "      <td>https://www.google.com/search?q=Unix+the+textb...</td>\n",
       "      <td>5</td>\n",
       "    </tr>\n",
       "    <tr>\n",
       "      <th>2</th>\n",
       "      <td>Taxonomy of IDS By Arif Butt</td>\n",
       "      <td>Rs.6900</td>\n",
       "      <td>Not in stock</td>\n",
       "      <td>70 Reviews</td>\n",
       "      <td>https://www.amazon.in/Taxonomy-Ids-Arif-Butt/d...</td>\n",
       "      <td>4</td>\n",
       "    </tr>\n",
       "    <tr>\n",
       "      <th>3</th>\n",
       "      <td>Understanding operating systems By Ida Flynn</td>\n",
       "      <td>Rs.2700</td>\n",
       "      <td>Not in stock</td>\n",
       "      <td>70 Reviews</td>\n",
       "      <td>https://www.amazon.com/Understanding-Operating...</td>\n",
       "      <td>2</td>\n",
       "    </tr>\n",
       "    <tr>\n",
       "      <th>4</th>\n",
       "      <td>Computer Systems  By Randal E. Bryant</td>\n",
       "      <td>Rs.1700</td>\n",
       "      <td>In stock</td>\n",
       "      <td>70 Reviews</td>\n",
       "      <td>https://www.goodreads.com/book/show/829182.Com...</td>\n",
       "      <td>2</td>\n",
       "    </tr>\n",
       "    <tr>\n",
       "      <th>5</th>\n",
       "      <td>Linux bible  Book By Christopher Negus</td>\n",
       "      <td>Rs.1800</td>\n",
       "      <td>Not in stock</td>\n",
       "      <td>70 Reviews</td>\n",
       "      <td>https://www.amazon.com/Linux-Bible-Christopher...</td>\n",
       "      <td>1</td>\n",
       "    </tr>\n",
       "    <tr>\n",
       "      <th>6</th>\n",
       "      <td>Advanced Programming in the UNIX Environment  ...</td>\n",
       "      <td>Rs.6000</td>\n",
       "      <td>In stock</td>\n",
       "      <td>70 Reviews</td>\n",
       "      <td>https://www.amazon.com/dp/0321637739?tag=uuid1...</td>\n",
       "      <td>1</td>\n",
       "    </tr>\n",
       "    <tr>\n",
       "      <th>7</th>\n",
       "      <td>Operating Systems: A Design-oriented Approach ...</td>\n",
       "      <td>Rs.1000</td>\n",
       "      <td>In stock</td>\n",
       "      <td>70 Reviews</td>\n",
       "      <td>https://www.amazon.com/s?k=Operating+Systems%3...</td>\n",
       "      <td>3</td>\n",
       "    </tr>\n",
       "    <tr>\n",
       "      <th>8</th>\n",
       "      <td>Hands-On Network Programming with C  By Lewis ...</td>\n",
       "      <td>Rs.1800</td>\n",
       "      <td>In stock</td>\n",
       "      <td>70 Reviews</td>\n",
       "      <td>https://www.amazon.com/Hands-Network-Programmi...</td>\n",
       "      <td>4</td>\n",
       "    </tr>\n",
       "  </tbody>\n",
       "</table>\n",
       "</div>"
      ],
      "text/plain": [
       "                                        Title/author    Price   Availability  \\\n",
       "0      Operating System Concepts By Avi Silberschatz  Rs.2000       In stock   \n",
       "1           UNIX The Textbook By Syed Mansoor Sarwar  Rs.5000       In stock   \n",
       "2                       Taxonomy of IDS By Arif Butt  Rs.6900   Not in stock   \n",
       "3       Understanding operating systems By Ida Flynn  Rs.2700   Not in stock   \n",
       "4             Computer Systems  By Randal E. Bryant   Rs.1700       In stock   \n",
       "5             Linux bible  Book By Christopher Negus  Rs.1800   Not in stock   \n",
       "6  Advanced Programming in the UNIX Environment  ...  Rs.6000       In stock   \n",
       "7  Operating Systems: A Design-oriented Approach ...  Rs.1000       In stock   \n",
       "8  Hands-On Network Programming with C  By Lewis ...  Rs.1800       In stock   \n",
       "\n",
       "      Reviews                                              Links  Stars  \n",
       "0  70 Reviews  https://www.amazon.com/Operating-System-Concep...      3  \n",
       "1  70 Reviews  https://www.google.com/search?q=Unix+the+textb...      5  \n",
       "2  70 Reviews  https://www.amazon.in/Taxonomy-Ids-Arif-Butt/d...      4  \n",
       "3  70 Reviews  https://www.amazon.com/Understanding-Operating...      2  \n",
       "4  70 Reviews  https://www.goodreads.com/book/show/829182.Com...      2  \n",
       "5  70 Reviews  https://www.amazon.com/Linux-Bible-Christopher...      1  \n",
       "6  70 Reviews  https://www.amazon.com/dp/0321637739?tag=uuid1...      1  \n",
       "7  70 Reviews  https://www.amazon.com/s?k=Operating+Systems%3...      3  \n",
       "8  70 Reviews  https://www.amazon.com/Hands-Network-Programmi...      4  "
      ]
     },
     "execution_count": 143,
     "metadata": {},
     "output_type": "execute_result"
    }
   ],
   "source": [
    "data =pd.DataFrame({\"Title/author\": t, \"Price\": pr, \"Availability\": a, \"Reviews\": r, \"Links\": l, \"Stars\": count})\n",
    "data"
   ]
  },
  {
   "cell_type": "markdown",
   "metadata": {},
   "source": [
    "### Scraping data of multiple pages"
   ]
  },
  {
   "cell_type": "code",
   "execution_count": 148,
   "metadata": {},
   "outputs": [],
   "source": [
    "def books(soup, xount):\n",
    "    titles =soup.find_all(\"p\", {\"class\": \"book_name\"})\n",
    "    t =[]\n",
    "    for title in titles:\n",
    "        t.append(title.text)\n",
    "    l =[]\n",
    "    for i in titles:\n",
    "        l.append(i.a.attrs[\"href\"])\n",
    "    prices =soup.find_all(\"p\", {\"class\": \"price green\"})\n",
    "    pr =[]\n",
    "    for p in prices:\n",
    "        pr.append(p.text)\n",
    "    aval =soup.find_all(\"p\", {\"class\" : \"stock\"})\n",
    "    a =[]\n",
    "    for av in aval:\n",
    "        a.append(av.text)\n",
    "    reviews =soup.find_all('p', {\"class\": \"review\"})\n",
    "    re =[]\n",
    "    for r in reviews:\n",
    "        re.append(r.attrs[\"data-rating\"])\n",
    "    divs =soup.find_all(\"div\", {\"class\": \"align-left\"})\n",
    "    div =[]\n",
    "    for i in divs:\n",
    "        div.append(i.div)\n",
    "    count =[]\n",
    "    for i in div:\n",
    "        c =i.find_all('span', {\"class\": \"fa fa-star\"})\n",
    "        count.append(len(c))\n",
    "    \n",
    "    for i in range(9):\n",
    "        print(\"Title\", t[i])\n",
    "        print(\"Link\", l[i])\n",
    "        print(\"Prices\", pr[i])\n",
    "        print(\"Reviews\", re[i])\n",
    "        print(\"Star Count\", count[i])\n",
    "        print(\"------\" * 20)\n",
    "    data =pd.DataFrame({\"Title/author\": t, \"Price\": pr, \"Availability\": a, \"Reviews\": r, \"Links\": l, \"Stars\": count})\n",
    "    data.to_csv(f\"Book{xount}.csv\", index=False)\n",
    "\n",
    "\n",
    "\n",
    "\n"
   ]
  },
  {
   "cell_type": "code",
   "execution_count": 151,
   "metadata": {},
   "outputs": [
    {
     "name": "stdout",
     "output_type": "stream",
     "text": [
      "Title Operating System Concepts By Avi Silberschatz\n",
      "Link https://www.amazon.com/Operating-System-Concepts-Abridged-Companion/dp/1119456339\n",
      "Prices Rs.2000\n",
      "Reviews 20\n",
      "Star Count 3\n",
      "------------------------------------------------------------------------------------------------------------------------\n",
      "Title UNIX The Textbook By Syed Mansoor Sarwar\n",
      "Link https://www.google.com/search?q=Unix+the+textbook+by+mansoor&rlz=1C1CHBD_enPK987PK987&oq=unix+the+textbook+by+mansoor&aqs=chrome.0.69i59j69i57j69i59j69i60l5.4419j0j7&sourceid=chrome&ie=UTF-8\n",
      "Prices Rs.5000\n",
      "Reviews 100\n",
      "Star Count 5\n",
      "------------------------------------------------------------------------------------------------------------------------\n",
      "Title Taxonomy of IDS By Arif Butt\n",
      "Link https://www.amazon.in/Taxonomy-Ids-Arif-Butt/dp/3639294092\n",
      "Prices Rs.6900\n",
      "Reviews 20\n",
      "Star Count 4\n",
      "------------------------------------------------------------------------------------------------------------------------\n",
      "Title Understanding operating systems By Ida Flynn\n",
      "Link https://www.amazon.com/Understanding-Operating-Systems-Ann-McHoes/dp/1305674251\n",
      "Prices Rs.2700\n",
      "Reviews 60\n",
      "Star Count 2\n",
      "------------------------------------------------------------------------------------------------------------------------\n",
      "Title Computer Systems  By Randal E. Bryant \n",
      "Link https://www.goodreads.com/book/show/829182.Computer_Systems\n",
      "Prices Rs.1700\n",
      "Reviews 25\n",
      "Star Count 2\n",
      "------------------------------------------------------------------------------------------------------------------------\n",
      "Title Linux bible  Book By Christopher Negus\n",
      "Link https://www.amazon.com/Linux-Bible-Christopher-Negus/dp/111821854X\n",
      "Prices Rs.1800\n",
      "Reviews 21\n",
      "Star Count 1\n",
      "------------------------------------------------------------------------------------------------------------------------\n",
      "Title Advanced Programming in the UNIX Environment  By W. Stevans\n",
      "Link https://www.amazon.com/dp/0321637739?tag=uuid10-20\n",
      "Prices Rs.6000\n",
      "Reviews 40\n",
      "Star Count 1\n",
      "------------------------------------------------------------------------------------------------------------------------\n",
      "Title Operating Systems: A Design-oriented Approach By Charles Patrick Crowley\n",
      "Link https://www.amazon.com/s?k=Operating+Systems%3A+A+Design-oriented+Approach&i=stripbooks-intl-ship&ref=nb_sb_noss\n",
      "Prices Rs.1000\n",
      "Reviews 90\n",
      "Star Count 3\n",
      "------------------------------------------------------------------------------------------------------------------------\n",
      "Title Hands-On Network Programming with C  By Lewis Van Winkle\n",
      "Link https://www.amazon.com/Hands-Network-Programming-programming-optimized/dp/1789349869/ref=sr_1_1?crid=11FC0M0GAFA21&&keywords=unix+network+programming+2019&&qid=1653381349&&s=books&&sprefix=unix+network+programming+2019%2Cstripbooks-intl-ship%2C356&&sr=1-1\n",
      "Prices Rs.1800\n",
      "Reviews 70\n",
      "Star Count 4\n",
      "------------------------------------------------------------------------------------------------------------------------\n",
      "Title LINUX & UNIX Programming Tools  By Syed Mansoor Sarwar\n",
      "Link https://www.amazon.com/LINUX-UNIX-Programming-Tools-Developers/dp/0201773457/ref=sr_1_fkmr0_2?crid=166TEY9G7BJUC&&keywords=system+programming+mansoor+sarwer&&qid=1653381075&&s=books&&sprefix=system+programming+mansoor+sarwer%2Cstripbooks-intl-ship%2C279&&sr=1-2-fkmr0\n",
      "Prices Rs.5000\n",
      "Reviews 200\n",
      "Star Count 2\n",
      "------------------------------------------------------------------------------------------------------------------------\n",
      "Title Systems Programming Dhananjay  By  D. M. Dhamdhere \n",
      "Link https://www.amazon.com/s?k=system+programming+D.+M.+Dhamdhere&i=stripbooks-intl-ship&crid=3GNJI20WT3XIM&sprefix=system+programming+d.+m.+dhamdhere%2Cstripbooks-intl-ship%2C299&ref=nb_sb_noss\n",
      "Prices Rs.8000\n",
      "Reviews 100\n",
      "Star Count 4\n",
      "------------------------------------------------------------------------------------------------------------------------\n",
      "Title Taxonomy of IDS By Arif Butt\n",
      "Link https://www.amazon.in/Taxonomy-Ids-Arif-Butt/dp/3639294092\n",
      "Prices Rs.6900\n",
      "Reviews 38\n",
      "Star Count 3\n",
      "------------------------------------------------------------------------------------------------------------------------\n",
      "Title The Linux Programming Interface By Michael Kerrsik\n",
      "Link https://www.amazon.com/dp/1593272200?tag=uuid10-20\n",
      "Prices Rs.2700\n",
      "Reviews 45\n",
      "Star Count 3\n",
      "------------------------------------------------------------------------------------------------------------------------\n",
      "Title UNIX The TextbookBy Syed Mansoor Sarwar\n",
      "Link https://www.google.com/search?q=Unix+the+textbook+by+mansoor&rlz=1C1CHBD_enPK987PK987&oq=unix+the+textbook+by+mansoor&aqs=chrome.0.69i59j69i57j69i59j69i60l5.4419j0j7&sourceid=chrome&ie=UTF-8\n",
      "Prices Rs.1700\n",
      "Reviews 32\n",
      "Star Count 1\n",
      "------------------------------------------------------------------------------------------------------------------------\n",
      "Title Linux bible  Book by Christopher Negus\n",
      "Link https://www.amazon.com/Linux-Bible-Christopher-Negus/dp/111821854X\n",
      "Prices Rs.1800\n",
      "Reviews 111\n",
      "Star Count 2\n",
      "------------------------------------------------------------------------------------------------------------------------\n",
      "Title Advanced Programming in the UNIX Environment By W. Stevans\n",
      "Link https://www.amazon.com/dp/0321637739?tag=uuid10-20\n",
      "Prices Rs.6000\n",
      "Reviews 100\n",
      "Star Count 2\n",
      "------------------------------------------------------------------------------------------------------------------------\n",
      "Title Linux Kernel Development By Robert Love\n",
      "Link https://www.amazon.com/Linux-Kernel-Development-Robert-Love/dp/0672329468/ref=pd_sbs_sccl_2_5/136-2951235-1153924?pd_rd_w=fpn08&&pf_rd_p=3676f086-9496-4fd7-8490-77cf7f43f846&&pf_rd_r=018JW607S91GVPH6PKRX&&pd_rd_r=1240354e-9fb5-4f40-bb7a-26a239fe29d3&&pd_rd_wg=XdIxU&&pd_rd_i=0672329468&&psc=1\n",
      "Prices Rs.1200\n",
      "Reviews 10\n",
      "Star Count 1\n",
      "------------------------------------------------------------------------------------------------------------------------\n",
      "Title Hands-On Network Programming with C  By Lewis Van Winkle\n",
      "Link https://www.amazon.com/Hands-Network-Programming-programming-optimized/dp/1789349869/ref=sr_1_1?crid=11FC0M0GAFA21&&keywords=unix+network+programming+2019&&qid=1653381349&&s=books&&sprefix=unix+network+programming+2019%2Cstripbooks-intl-ship%2C356&&sr=1-1\n",
      "Prices Rs.1900\n",
      "Reviews 90\n",
      "Star Count 3\n",
      "------------------------------------------------------------------------------------------------------------------------\n",
      "Title Computer Architecture: A Quantitative Approach By David A Patterson\n",
      "Link https://www.amazon.com/Computer-Architecture-Quantitative-John-Hennessy/dp/012383872X\n",
      "Prices Rs.2000\n",
      "Reviews 10\n",
      "Star Count 2\n",
      "------------------------------------------------------------------------------------------------------------------------\n",
      "Title Modern Computer Architecture and Organization By Jim Ledin\n",
      "Link https://www.amazon.com/s?k=Modern+Computer+Architecture+and+Organization&i=stripbooks-intl-ship&ref=nb_sb_noss\n",
      "Prices Rs.5000\n",
      "Reviews 10\n",
      "Star Count 4\n",
      "------------------------------------------------------------------------------------------------------------------------\n",
      "Title Computer Organization and Design By David A Patterson\n",
      "Link https://www.amazon.com/s?k=computer+organization+and+design&i=stripbooks-intl-ship&ref=nb_sb_noss\n",
      "Prices Rs.6900\n",
      "Reviews 50\n",
      "Star Count 5\n",
      "------------------------------------------------------------------------------------------------------------------------\n",
      "Title Digital Design and Computer Architecture  By David Harris\n",
      "Link https://www.amazon.com/Digital-Design-Computer-Architecture-Harris/dp/0123944244\n",
      "Prices Rs.2700\n",
      "Reviews 80\n",
      "Star Count 3\n",
      "------------------------------------------------------------------------------------------------------------------------\n",
      "Title  Essentials of computer architecture By Douglas Comer \n",
      "Link https://www.amazon.com/s?k=Essentials+of+computer+architecture&i=stripbooks-intl-ship&ref=nb_sb_noss\n",
      "Prices Rs.1700\n",
      "Reviews 20\n",
      "Star Count 3\n",
      "------------------------------------------------------------------------------------------------------------------------\n",
      "Title Clean Architecture   By Robert Cecil\n",
      "Link https://www.amazon.com/Clean-Architecture-Craftsmans-Software-Structure/dp/0134494164/ref=sr_1_1?crid=25BZB3Z47L23L&keywords=clean+architecture%3A+a+craftsman%27s+guide+to+software+structure&qid=1653896891&s=books&sprefix=essentials+of+computer+architecture%2Cstripbooks-intl-ship%2C908&sr=1-1\n",
      "Prices Rs.1800\n",
      "Reviews 210\n",
      "Star Count 4\n",
      "------------------------------------------------------------------------------------------------------------------------\n",
      "Title Parallel Computer Architecture By Anoop Gupta\n",
      "Link https://www.amazon.com/s?k=Parallel+Computer+Architecture&i=stripbooks-intl-ship&ref=nb_sb_noss\n",
      "Prices Rs.6000\n",
      "Reviews 30\n",
      "Star Count 2\n",
      "------------------------------------------------------------------------------------------------------------------------\n",
      "Title Flow Architectures By James Urquhart \n",
      "Link https://www.amazon.com/s?k=Flow+Architectures&i=stripbooks-intl-ship&crid=1Q5V8EFZD43KT&sprefix=flow+architectures%2Cstripbooks-intl-ship%2C275&ref=nb_sb_noss_1\n",
      "Prices Rs.1000\n",
      "Reviews 70\n",
      "Star Count 2\n",
      "------------------------------------------------------------------------------------------------------------------------\n",
      "Title  Computer Architecture for Scientists By Andrew Andai Chien\n",
      "Link https://www.amazon.com/s?k=Computer+Architecture+for+Scientists&i=stripbooks-intl-ship&crid=3K6LN11EX4H9X&sprefix=computer+architecture+for+scientists%2Cstripbooks-intl-ship%2C276&ref=nb_sb_noss_2\n",
      "Prices Rs.1800\n",
      "Reviews 60\n",
      "Star Count 3\n",
      "------------------------------------------------------------------------------------------------------------------------\n"
     ]
    }
   ],
   "source": [
    "\n",
    "urls =[\"https://arifpucit.github.io/bss2/\", \"https://arifpucit.github.io/bss2/SP.html\", \"https://arifpucit.github.io/bss2/CA.html\"]\n",
    "faiq = 0\n",
    "for u in urls:\n",
    "    resp =requests.get(u)\n",
    "    soup =BeautifulSoup(resp.text)\n",
    "\n",
    "    faiq +=1\n",
    "    books(soup, faiq)"
   ]
  },
  {
   "cell_type": "code",
   "execution_count": 174,
   "metadata": {},
   "outputs": [
    {
     "data": {
      "text/plain": [
       "'<!DOCTYPE html><html lang=\"en\"><head><meta charset=\"utf-8\"><title>Blocked - Indeed.com</title><meta name=\"viewport\" content=\"width=device-width, initial-scale=1\"><style>:root{color-scheme:light dark;--background-color:#fff;--primary-1000:#0d2d5e;--primary-900:#164081;--primary-800:#2557a7;--primary-700:#3f73d3;--primary-600:#6792f0;--neutral-1000:#2d2d2d;--neutral-900:#424242;--neutral-400:#d4d2d0;--dark-1000:#040606;--link-color:var(--primary-800);--link-color-hover:var(--primary-900);--menu-background-color:#fff;--text-color:var(--neutral-1000);--text-color-hover:var(--neutral-900);--default-transition:cubic-bezier(.645,.045,.355,1);--menu-transition:.28s all .12s ease-out;--font-family:\"Noto Sans\",system-ui,-apple-system,BlinkMacSystemFont,\"Helvetica Neue\",Arial,sans-serif;--icon-profile:url(\"data:image/svg+xml,%3Csvg width=\\'18\\' height=\\'18\\' viewBox=\\'0 0 18 18\\' fill=\\'none\\' xmlns=\\'http://www.w3.org/2000/svg\\'%3E%3Cpath d=\\'M9 9C11.4862 9 13.5 6.98625 13.5 4.5C13.5 2.01375 11.4862 0 9 0C6.51375 0 4.5 2.01375 4.5 4.5C4.5 6.98625 6.51375 9 9 9ZM9 11.25C5.99625 11.25 0 12.7575 0 15.75V17.5C0 17.7761 0.223858 18 0.5 18H17.5C17.7761 18 18 17.7761 18 17.5V15.75C18 12.7575 12.0037 11.25 9 11.25Z\\' fill=\\'white\\'/%3E%3C/svg%3E%0A\")}@media (prefers-color-scheme:light){:root{--background-color:var(--background-color);--link-color-hover:var(--primary-900);--link-color:var(--primary-800);--text-color-hover:var(--neutral-900);--text-color:var(--neutral-1000);--menu-background-color:#fff}}@media (prefers-color-scheme:dark){:root{--background-color:var(--dark-1000);--text-color:#fff;--text-color-hover:#fff;--link-color:#fff;--link-hover-color:var(--primary-700);--menu-background-color:var(--neutral-900)}.error img{opacity:.8}.link-logo img{filter:brightness(2)}:root .link-signin:after{background-color:var(--neutral-900)}}*,:before,:after{box-sizing:border-box}html{-moz-text-size-adjust:100%;text-size-adjust:100%}body{background-color:var(--background-color);color:var(--text-color);font-family:var(--font-family);margin:0;font-size:16px;line-height:1.5}html,body{height:100%}.gnav{justify-content:space-between;padding:1rem;display:flex}.gnav-nav,.gnav-links{gap:1.5rem;display:flex}.gnav-links{position:relative}:root .link-signin--mobile,.gnav-mobile-link{display:none}.gnav ul{gap:1.5rem;margin:0;padding:0;list-style:none;display:flex}.gnav a{color:var(--text-color);font-size:.875rem;text-decoration:none}.gnav a:hover{color:var(--text-color-hover)}.gnav-nav-list,.gnav-links-list{flex-wrap:wrap}.gnav-nav-list a:hover,.gnav-links-list a:hover{text-decoration:underline}.gnav-links:hover .gnav-links-list,.gnav-links:focus-within .gnav-links-list{opacity:1;visibility:visible}.gnav-links-button{cursor:pointer;background:0 0;border:none;align-self:flex-start;display:none}.link-signin{margin-right:1.5rem;position:relative}.link-signin:after{content:\" \";background-color:var(--neutral-400);width:1px;height:1.5rem;display:inline-block;position:absolute;top:0;right:-1.5rem}.link-signin a{color:var(--link-color);font-weight:700}@media screen and (width<=50rem){.gnav-links-button{filter:brightness(2);display:inline-flex}:root .gnav-links-list{background-color:var(--menu-background-color);opacity:.3;transform-origin:top;transition:var(--menu-transition);visibility:hidden;z-index:1;border-radius:4px;flex-direction:column;gap:0;min-width:12rem;padding:0;display:flex;position:absolute;top:1rem;left:65%;transform:translate(-95%,1rem);box-shadow:0 1px 5px #0000004d}:root .link-signin--mobile{color:#fff;gap:.5rem;margin-top:-.25rem;margin-left:auto;margin-right:.5rem;display:inline-flex}.gnav-links-list li{display:flex}.gnav-links-list a{width:100%;padding:.5rem}:root .gnav-nav-list,:root .link-signin,.link-signin:after{display:none}}main{text-align:center;flex-direction:column;align-items:center;max-width:30rem;margin:0 auto;padding:0 1rem;display:flex}.error-image{margin:3rem 0}h1{margin-bottom:0;font-size:1.5rem;line-height:1.25}p{font-size:1rem}a{color:var(--link-color);font-weight:400}a:hover{color:var(--link-color-hover);text-decoration:none}.link-home{margin-top:2rem}.button{appearance:none;background-color:var(--primary-800);color:#fff;cursor:pointer;font-family:inherit;font-size:1rem;font-weight:700;line-height:inherit;transition:background-color .2s var(--default-transition),border-color .2s var(--default-transition);-webkit-user-select:none;user-select:none;border:0;border-radius:.5rem;flex-grow:0;justify-content:center;align-self:center;align-items:center;padding:.5625rem 1rem;text-decoration:none;display:inline-flex;position:relative;overflow:hidden}.button:hover{background-color:var(--primary-900);border-color:var(--primary-800);color:#fff;text-decoration:none}.icon-profile{background-image:var(--icon-profile);width:1.125rem;height:1.125rem}</style>\\n</head><body dir=\"ltr\"> <nav class=\"gnav\"> <div class=\"gnav-nav\"> <a href=\"https://www.indeed.com/\" aria-label=\"Indeed Home\" class=\"link-logo\"> <img src=\"data:image/svg+xml;base64,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\" width=\"75\" height=\"20\" alt=\"Indeed logo\"> </a> <ul class=\"gnav-nav-list\"> <li> <a href=\"https://www.indeed.com/\">Find jobs</a> </li> <li> <a href=\"https://www.indeed.com/companies\">Company reviews</a> </li> <li> <a href=\"https://www.indeed.com/career/salaries\">Find salaries</a> </li> </ul> </div> <a class=\"button link-signin--mobile\" href=\"https://secure.indeed.com/account/login?hl=en_US&co=US&continue=https%3A%2F%2Fwww.indeed.com\"><span class=\"icon-profile\"></span><span>Sign in</span></a> <div class=\"gnav-links\"> <button class=\"gnav-links-button\" tabindex=\"0\" aria-label=\"Primary navigation\"> <img src=\"data:image/svg+xml;base64,PHN2ZyB3aWR0aD0iMjQiIGhlaWdodD0iMjQiIGZpbGw9Im5vbmUiIHhtbG5zPSJodHRwOi8vd3d3LnczLm9yZy8yMDAwL3N2ZyI+PHBhdGggZD0iTTMuNSA2aDE3YS41LjUgMCAwIDEgLjUuNXYxYS41LjUgMCAwIDEtLjUuNWgtMTdhLjUuNSAwIDAgMS0uNS0uNXYtMWEuNS41IDAgMCAxIC41LS41Wk0yMC41IDExaC0xN2EuNS41IDAgMCAwLS41LjV2MWEuNS41IDAgMCAwIC41LjVoMTdhLjUuNSAwIDAgMCAuNS0uNXYtMWEuNS41IDAgMCAwLS41LS41Wk0yMC41IDE2aC0xN2EuNS41IDAgMCAwLS41LjV2MWEuNS41IDAgMCAwIC41LjVoMTdhLjUuNSAwIDAgMCAuNS0uNXYtMWEuNS41IDAgMCAwLS41LS41WiIgZmlsbD0iIzJEMkQyRCIvPjwvc3ZnPg==\" width=\"24\" height=\"24\"> </button> <ul class=\"gnav-links-list\"> <li> <a href=\"https://www.indeed.com/promo/resume\">Upload your resume</a> </li> <li class=\"link-signin\"> <a href=\"https://secure.indeed.com/account/login?hl=en_US&co=US&continue=https%3A%2F%2Fwww.indeed.com\">Sign in</a> </li> <li> <a href=\"https://www.indeed.com/hire?co=US&hl=en&ikw=gnav-header-hire&isid=employerlink-US\">Employers / Post Job</a> </li> <li class=\"gnav-mobile-link\"> <a href=\"https://www.indeed.com/\">Find jobs</a> </li> <li class=\"gnav-mobile-link\"> <a href=\"https://www.indeed.com/companies\">Company reviews</a> </li> <li class=\"gnav-mobile-link\"> <a href=\"https://www.indeed.com/career/salaries\">Find salaries</a> </li> </ul> </div> </nav> <main class=\"error\"> <h1>Request Blocked</h1> <p>You have been blocked. If you believe this in error, please go to support.indeed.com and reference the following information:</p> <p>Your Ray ID for this request is <span style=\"font-style:italic\">8e7a3a0beeb7de43</span></p> <p>Your current IP for this request is <span style=\"font-style:italic\">39.55.164.251</span></p> <a href=\"https://www.indeed.com/\" class=\"button link-home\">Return home <span>&nbsp; &#8594;</span></a> <p>Need more help? <a href=\"https://www.indeed.com/support/contact\">Contact us</a></p> </main> <!-- Cloudflare Pages Analytics --><script defer data-cf-beacon=\\'{\"token\": \"2323e9b6b7a9462a9696842b9c3463d2\"}\\'>!function(){var e={343:function(e){\"use strict\";for(var t=[],n=0;n<256;++n)t[n]=(n+256).toString(16).substr(1);e.exports=function(e,n){var r=n||0,i=t;return[i[e[r++]],i[e[r++]],i[e[r++]],i[e[r++]],\"-\",i[e[r++]],i[e[r++]],\"-\",i[e[r++]],i[e[r++]],\"-\",i[e[r++]],i[e[r++]],\"-\",i[e[r++]],i[e[r++]],i[e[r++]],i[e[r++]],i[e[r++]],i[e[r++]]].join(\"\")}},944:function(e){\"use strict\";var t=\"undefined\"!=typeof crypto&&crypto.getRandomValues&&crypto.getRandomValues.bind(crypto)||\"undefined\"!=typeof msCrypto&&\"function\"==typeof window.msCrypto.getRandomValues&&msCrypto.getRandomValues.bind(msCrypto);if(t){var n=new Uint8Array(16);e.exports=function(){return t(n),n}}else{var r=new Array(16);e.exports=function(){for(var e,t=0;t<16;t++)0==(3&t)&&(e=4294967296*Math.random()),r[t]=e>>>((3&t)<<3)&255;return r}}},508:function(e,t,n){\"use strict\";var r=n(944),i=n(343);e.exports=function(e,t,n){var o=t&&n||0;\"string\"==typeof e&&(t=\"binary\"===e?new Array(16):null,e=null);var a=(e=e||{}).random||(e.rng||r)();if(a[6]=15&a[6]|64,a[8]=63&a[8]|128,t)for(var c=0;c<16;++c)t[o+c]=a[c];return t||i(a)}},168:function(e,t,n){\"use strict\";var r=this&&this.__assign||function(){return r=Object.assign||function(e){for(var t,n=1,r=arguments.length;n<r;n++)for(var i in t=arguments[n])Object.prototype.hasOwnProperty.call(t,i)&&(e[i]=t[i]);return e},r.apply(this,arguments)};t.__esModule=!0;var i=n(699),o=n(752),a=n(104),c=n(508);!function(){function e(e){var t=\"\";if(t=window.location.origin?window.location.origin:\"\".concat(window.location.protocol,\"://\").concat(window.location.host),e&&\"string\"==typeof e)if(0===e.indexOf(\"/\"))t+=e;else try{var n=new URL(e);return\"\".concat(n.protocol,\"://\").concat(n.host).concat(n.pathname)}catch(e){}else{var r=window.location.pathname;r&&r.length>0&&(t+=r)}return t}function t(e,t){for(var n in e){var r=e[n];void 0!==t&&(\"number\"!=typeof r&&\"string\"!=typeof r||(t[n]=r))}}!function(){var n,u,s=window.performance||window.webkitPerformance||window.msPerformance||window.mozPerformance,f=\"data-cf-beacon\",d=document.currentScript||(\"function\"==typeof document.querySelector?document.querySelector(\"script[\".concat(f,\"]\")):void 0),l=c(),v=[],p=window.__cfBeacon?window.__cfBeacon:{};if(!p||\"single\"!==p.load){if(d){var m=d.getAttribute(f);if(m)try{p=r(r({},p),JSON.parse(m))}catch(e){}else{var g=d.getAttribute(\"src\");if(g&&\"function\"==typeof URLSearchParams){var y=new URLSearchParams(g.replace(/^[^\\\\?]+\\\\??/,\"\")),h=y.get(\"token\");h&&(p.token=h);var T=y.get(\"spa\");p.spa=null===T||\"true\"===T}}p&&\"multi\"!==p.load&&(p.load=\"single\"),window.__cfBeacon=p}if(s&&p&&p.token){var w,S,b=!1;document.addEventListener(\"visibilitychange\",(function(){if(\"hidden\"===document.visibilityState){if(L&&A()){var t=e();(null==w?void 0:w.url)==t&&(null==w?void 0:w.triggered)||P(),_(t)}!b&&w&&(b=!0,B())}else\"visible\"===document.visibilityState&&(new Date).getTime()}));var E={};\"function\"==typeof PerformanceObserver&&((0,a.onLCP)(x),(0,a.onFID)(x),(0,a.onFCP)(x),(0,a.onINP)(x),(0,a.onTTFB)(x),PerformanceObserver.supportedEntryTypes&&PerformanceObserver.supportedEntryTypes.includes(\"layout-shift\")&&(0,a.onCLS)(x));var L=p&&(void 0===p.spa||!0===p.spa),C=p.send&&p.send.to?p.send.to:void 0===p.version?\"https://cloudflareinsights.com/cdn-cgi/rum\":null,P=function(r){var a=function(r){var o,a,c=s.timing,u=s.memory,f=r||e(),d={memory:{},timings:{},resources:[],referrer:(o=document.referrer||\"\",a=v[v.length-1],L&&w&&a?a.url:o),eventType:i.EventType.Load,firstPaint:0,firstContentfulPaint:0,startTime:F(),versions:{fl:p?p.version:\"\",js:\"2024.6.1\",timings:1},pageloadId:l,location:f,nt:S,serverTimings:I()};if(null==n){if(\"function\"==typeof s.getEntriesByType){var m=s.getEntriesByType(\"navigation\");m&&Array.isArray(m)&&m.length>0&&(d.timingsV2={},d.versions.timings=2,d.dt=m[0].deliveryType,delete d.timings,t(m[0],d.timingsV2))}1===d.versions.timings&&t(c,d.timings),t(u,d.memory)}else O(d);return d.firstPaint=k(\"first-paint\"),d.firstContentfulPaint=k(\"first-contentful-paint\"),p&&(p.icTag&&(d.icTag=p.icTag),d.siteToken=p.token),void 0!==n&&(delete d.timings,delete d.memory),d}(r);a&&p&&(a.resources=[],p&&((0,o.sendObjectBeacon)(\"\",a,(function(){}),!1,C),void 0!==p.forward&&void 0!==p.forward.url&&(0,o.sendObjectBeacon)(\"\",a,(function(){}),!1,p.forward.url)))},B=function(){var t=function(){var t=s.getEntriesByType(\"navigation\")[0],n=\"\";try{n=\"function\"==typeof s.getEntriesByType?new URL(null==t?void 0:t.name).pathname:u?new URL(u).pathname:window.location.pathname}catch(e){}var r={referrer:document.referrer||\"\",eventType:i.EventType.WebVitalsV2,versions:{js:\"2024.6.1\"},pageloadId:l,location:e(),landingPath:n,startTime:F(),nt:S,serverTimings:I()};return p&&(p.version&&(r.versions.fl=p.version),p.icTag&&(r.icTag=p.icTag),r.siteToken=p.token),E&&[\"lcp\",\"fid\",\"cls\",\"fcp\",\"ttfb\",\"inp\"].forEach((function(e){r[e]={value:-1,path:void 0},E[e]&&void 0!==E[e].value&&(r[e]=E[e])})),O(r),r}();p&&(0,o.sendObjectBeacon)(\"\",t,(function(){}),!0,C)},R=function(){var t=window.__cfRl&&window.__cfRl.done||window.__cfQR&&window.__cfQR.done;t?t.then(P):P(),w={id:l,url:e(),ts:(new Date).getTime(),triggered:!0}};\"complete\"===window.document.readyState?R():window.addEventListener(\"load\",(function(){window.setTimeout(R)}));var A=function(){return L&&0===v.filter((function(e){return e.id===l})).length},_=function(e){v.push({id:l,url:e,ts:(new Date).getTime()}),v.length>3&&v.shift()};L&&(u=e(),function(t){var r=t.pushState;if(r){var i=function(){l=c()};t.pushState=function(o,a,c){n=e(c);var u=e(),s=!0;return n==u&&(s=!1),s&&(A()&&((null==w?void 0:w.url)==u&&(null==w?void 0:w.triggered)||P(u),_(u)),i()),r.apply(t,[o,a,c])},window.addEventListener(\"popstate\",(function(t){A()&&((null==w?void 0:w.url)==n&&(null==w?void 0:w.triggered)||P(n),_(n)),n=e(),i()}))}}(window.history))}}function x(e){var t,n,r,i,o,a,c,u=window.location.pathname;switch(S||(S=e.navigationType),\"INP\"!==e.name&&(E[e.name.toLowerCase()]={value:e.value,path:u}),e.name){case\"CLS\":(c=e.attribution)&&E.cls&&(E.cls.element=c.largestShiftTarget,E.cls.currentRect=null===(t=c.largestShiftSource)||void 0===t?void 0:t.currentRect,E.cls.previousRect=null===(n=c.largestShiftSource)||void 0===n?void 0:n.previousRect);break;case\"FID\":(c=e.attribution)&&E.fid&&(E.fid.element=c.eventTarget,E.fid.name=c.eventType);break;case\"LCP\":(c=e.attribution)&&E.lcp&&(E.lcp.element=c.element,E.lcp.size=null===(r=c.lcpEntry)||void 0===r?void 0:r.size,E.lcp.url=c.url,E.lcp.rld=c.resourceLoadDelay,E.lcp.rlt=c.resourceLoadTime,E.lcp.erd=c.elementRenderDelay,E.lcp.it=null===(i=c.lcpResourceEntry)||void 0===i?void 0:i.initiatorType,E.lcp.fp=null===(a=null===(o=c.lcpEntry)||void 0===o?void 0:o.element)||void 0===a?void 0:a.getAttribute(\"fetchpriority\"));break;case\"INP\":(null==E.inp||Number(E.inp.value)<Number(e.value))&&(E.inp={value:Number(e.value),path:u},(c=e.attribution)&&E.inp&&(E.inp.element=c.eventTarget,E.inp.name=c.eventType))}}function F(){return s.timeOrigin}function I(){if(p&&p.serverTiming){for(var e=[],t=0,n=[\"navigation\",\"resource\"];t<n.length;t++)for(var r=n[t],i=0,o=s.getEntriesByType(r);i<o.length;i++){var a=o[i],c=a.name,u=a.serverTiming;if(u){if(\"resource\"===r){var f=p.serverTiming.location_startswith;if(!f||!Array.isArray(f))continue;for(var d=!1,l=0,v=f;l<v.length;l++){var m=v[l];if(c.startsWith(m)){d=!0;break}}if(!d)continue}for(var g=0,y=u;g<y.length;g++){var h=y[g],T=h.name,w=h.description,S=h.duration;if(p.serverTiming.name&&p.serverTiming.name[T])try{var b=new URL(c);e.push({location:\"resource\"===r?\"\".concat(b.origin).concat(b.pathname):void 0,name:T,dur:S,desc:w})}catch(e){}}}}return e}}function O(e){if(\"function\"==typeof s.getEntriesByType){var n=s.getEntriesByType(\"navigation\"),r={};e.timingsV2={},n&&n[0]&&(n[0].nextHopProtocol&&(r.nextHopProtocol=n[0].nextHopProtocol),n[0].transferSize&&(r.transferSize=n[0].transferSize),n[0].decodedBodySize&&(r.decodedBodySize=n[0].decodedBodySize),e.dt=n[0].deliveryType),t(r,e.timingsV2)}}function k(e){var t;if(\"first-contentful-paint\"===e&&E.fcp&&E.fcp.value)return E.fcp.value;if(\"function\"==typeof s.getEntriesByType){var n=null===(t=s.getEntriesByType(\"paint\"))||void 0===t?void 0:t.filter((function(t){return t.name===e}))[0];return n?n.startTime:0}return 0}}()}()},752:function(e,t){\"use strict\";t.__esModule=!0,t.sendObjectBeacon=void 0,t.sendObjectBeacon=function(e,t,n,r,i){void 0===r&&(r=!1),void 0===i&&(i=null);var o=i||(t.siteToken&&t.versions.fl?\"/cdn-cgi/rum?\".concat(e):\"/cdn-cgi/beacon/performance?\".concat(e)),a=!0;if(navigator&&\"string\"==typeof navigator.userAgent)try{var c=navigator.userAgent.match(/Chrome\\\\/([0-9]+)/);c&&c[0].toLowerCase().indexOf(\"chrome\")>-1&&parseInt(c[1])<81&&(a=!1)}catch(e){}if(navigator&&\"function\"==typeof navigator.sendBeacon&&a&&r){t.st=1;var u=JSON.stringify(t),s=navigator.sendBeacon&&navigator.sendBeacon.bind(navigator);null==s||s(o,new Blob([u],{type:\"application/json\"}))}else{t.st=2,u=JSON.stringify(t);var f=new XMLHttpRequest;n&&(f.onreadystatechange=function(){4==this.readyState&&204==this.status&&n()}),f.open(\"POST\",o,!0),f.setRequestHeader(\"content-type\",\"application/json\"),f.send(u)}}},699:function(e,t){\"use strict\";var n,r;t.__esModule=!0,t.FetchPriority=t.EventType=void 0,(r=t.EventType||(t.EventType={}))[r.Load=1]=\"Load\",r[r.Additional=2]=\"Additional\",r[r.WebVitalsV2=3]=\"WebVitalsV2\",(n=t.FetchPriority||(t.FetchPriority={})).High=\"high\",n.Low=\"low\",n.Auto=\"auto\"},104:function(e,t){!function(e){\"use strict\";var t,n,r,i,o,a=function(){return window.performance&&performance.getEntriesByType&&performance.getEntriesByType(\"navigation\")[0]},c=function(e){if(\"loading\"===document.readyState)return\"loading\";var t=a();if(t){if(e<t.domInteractive)return\"loading\";if(0===t.domContentLoadedEventStart||e<t.domContentLoadedEventStart)return\"dom-interactive\";if(0===t.domComplete||e<t.domComplete)return\"dom-content-loaded\"}return\"complete\"},u=function(e){var t=e.nodeName;return 1===e.nodeType?t.toLowerCase():t.toUpperCase().replace(/^#/,\"\")},s=function(e,t){var n=\"\";try{for(;e&&9!==e.nodeType;){var r=e,i=r.id?\"#\"+r.id:u(r)+(r.classList&&r.classList.value&&r.classList.value.trim()&&r.classList.value.trim().length?\".\"+r.classList.value.trim().replace(/\\\\s+/g,\".\"):\"\");if(n.length+i.length>(t||100)-1)return n||i;if(n=n?i+\">\"+n:i,r.id)break;e=r.parentNode}}catch(e){}return n},f=-1,d=function(){return f},l=function(e){addEventListener(\"pageshow\",(function(t){t.persisted&&(f=t.timeStamp,e(t))}),!0)},v=function(){var e=a();return e&&e.activationStart||0},p=function(e,t){var n=a(),r=\"navigate\";return d()>=0?r=\"back-forward-cache\":n&&(document.prerendering||v()>0?r=\"prerender\":document.wasDiscarded?r=\"restore\":n.type&&(r=n.type.replace(/_/g,\"-\"))),{name:e,value:void 0===t?-1:t,rating:\"good\",delta:0,entries:[],id:\"v3-\".concat(Date.now(),\"-\").concat(Math.floor(8999999999999*Math.random())+1e12),navigationType:r}},m=function(e,t,n){try{if(PerformanceObserver.supportedEntryTypes.includes(e)){var r=new PerformanceObserver((function(e){Promise.resolve().then((function(){t(e.getEntries())}))}));return r.observe(Object.assign({type:e,buffered:!0},n||{})),r}}catch(e){}},g=function(e,t,n,r){var i,o;return function(a){t.value>=0&&(a||r)&&((o=t.value-(i||0))||void 0===i)&&(i=t.value,t.delta=o,t.rating=function(e,t){return e>t[1]?\"poor\":e>t[0]?\"needs-improvement\":\"good\"}(t.value,n),e(t))}},y=function(e){requestAnimationFrame((function(){return requestAnimationFrame((function(){return e()}))}))},h=function(e){var t=function(t){\"pagehide\"!==t.type&&\"hidden\"!==document.visibilityState||e(t)};addEventListener(\"visibilitychange\",t,!0),addEventListener(\"pagehide\",t,!0)},T=function(e){var t=!1;return function(n){t||(e(n),t=!0)}},w=-1,S=function(){return\"hidden\"!==document.visibilityState||document.prerendering?1/0:0},b=function(e){\"hidden\"===document.visibilityState&&w>-1&&(w=\"visibilitychange\"===e.type?e.timeStamp:0,L())},E=function(){addEventListener(\"visibilitychange\",b,!0),addEventListener(\"prerenderingchange\",b,!0)},L=function(){removeEventListener(\"visibilitychange\",b,!0),removeEventListener(\"prerenderingchange\",b,!0)},C=function(){return w<0&&(w=S(),E(),l((function(){setTimeout((function(){w=S(),E()}),0)}))),{get firstHiddenTime(){return w}}},P=function(e){document.prerendering?addEventListener(\"prerenderingchange\",(function(){return e()}),!0):e()},B=[1800,3e3],R=function(e,t){t=t||{},P((function(){var n,r=C(),i=p(\"FCP\"),o=m(\"paint\",(function(e){e.forEach((function(e){\"first-contentful-paint\"===e.name&&(o.disconnect(),e.startTime<r.firstHiddenTime&&(i.value=Math.max(e.startTime-v(),0),i.entries.push(e),n(!0)))}))}));o&&(n=g(e,i,B,t.reportAllChanges),l((function(r){i=p(\"FCP\"),n=g(e,i,B,t.reportAllChanges),y((function(){i.value=performance.now()-r.timeStamp,n(!0)}))})))}))},A=[.1,.25],_={passive:!0,capture:!0},x=new Date,F=function(e,i){t||(t=i,n=e,r=new Date,k(removeEventListener),I())},I=function(){if(n>=0&&n<r-x){var e={entryType:\"first-input\",name:t.type,target:t.target,cancelable:t.cancelable,startTime:t.timeStamp,processingStart:t.timeStamp+n};i.forEach((function(t){t(e)})),i=[]}},O=function(e){if(e.cancelable){var t=(e.timeStamp>1e12?new Date:performance.now())-e.timeStamp;\"pointerdown\"==e.type?function(e,t){var n=function(){F(e,t),i()},r=function(){i()},i=function(){removeEventListener(\"pointerup\",n,_),removeEventListener(\"pointercancel\",r,_)};addEventListener(\"pointerup\",n,_),addEventListener(\"pointercancel\",r,_)}(t,e):F(t,e)}},k=function(e){[\"mousedown\",\"keydown\",\"touchstart\",\"pointerdown\"].forEach((function(t){return e(t,O,_)}))},M=[100,300],D=function(e,r){r=r||{},P((function(){var o,a=C(),c=p(\"FID\"),u=function(e){e.startTime<a.firstHiddenTime&&(c.value=e.processingStart-e.startTime,c.entries.push(e),o(!0))},s=function(e){e.forEach(u)},f=m(\"first-input\",s);o=g(e,c,M,r.reportAllChanges),f&&h(T((function(){s(f.takeRecords()),f.disconnect()}))),f&&l((function(){var a;c=p(\"FID\"),o=g(e,c,M,r.reportAllChanges),i=[],n=-1,t=null,k(addEventListener),a=u,i.push(a),I()}))}))},N=0,V=1/0,j=0,q=function(e){e.forEach((function(e){e.interactionId&&(V=Math.min(V,e.interactionId),j=Math.max(j,e.interactionId),N=j?(j-V)/7+1:0)}))},H=function(){return o?N:performance.interactionCount||0},z=function(){\"interactionCount\"in performance||o||(o=m(\"event\",q,{type:\"event\",buffered:!0,durationThreshold:0}))},U=[200,500],J=0,W=function(){return H()-J},Q=[],X={},G=function(e){var t=Q[Q.length-1],n=X[e.interactionId];if(n||Q.length<10||e.duration>t.latency){if(n)n.entries.push(e),n.latency=Math.max(n.latency,e.duration);else{var r={id:e.interactionId,latency:e.duration,entries:[e]};X[r.id]=r,Q.push(r)}Q.sort((function(e,t){return t.latency-e.latency})),Q.splice(10).forEach((function(e){delete X[e.id]}))}},K=[2500,4e3],Y={},Z=[800,1800],$=function e(t){document.prerendering?P((function(){return e(t)})):\"complete\"!==document.readyState?addEventListener(\"load\",(function(){return e(t)}),!0):setTimeout(t,0)},ee=function(e,t){t=t||{};var n=p(\"TTFB\"),r=g(e,n,Z,t.reportAllChanges);$((function(){var i=a();if(i){var o=i.responseStart;if(o<=0||o>performance.now())return;n.value=Math.max(o-v(),0),n.entries=[i],r(!0),l((function(){n=p(\"TTFB\",0),(r=g(e,n,Z,t.reportAllChanges))(!0)}))}}))};e.CLSThresholds=A,e.FCPThresholds=B,e.FIDThresholds=M,e.INPThresholds=U,e.LCPThresholds=K,e.TTFBThresholds=Z,e.onCLS=function(e,t){!function(e,t){t=t||{},R(T((function(){var n,r=p(\"CLS\",0),i=0,o=[],a=function(e){e.forEach((function(e){if(!e.hadRecentInput){var t=o[0],n=o[o.length-1];i&&e.startTime-n.startTime<1e3&&e.startTime-t.startTime<5e3?(i+=e.value,o.push(e)):(i=e.value,o=[e])}})),i>r.value&&(r.value=i,r.entries=o,n())},c=m(\"layout-shift\",a);c&&(n=g(e,r,A,t.reportAllChanges),h((function(){a(c.takeRecords()),n(!0)})),l((function(){i=0,r=p(\"CLS\",0),n=g(e,r,A,t.reportAllChanges),y((function(){return n()}))})),setTimeout(n,0))})))}((function(t){!function(e){if(e.entries.length){var t=e.entries.reduce((function(e,t){return e&&e.value>t.value?e:t}));if(t&&t.sources&&t.sources.length){var n=(r=t.sources).find((function(e){return e.node&&1===e.node.nodeType}))||r[0];if(n)return void(e.attribution={largestShiftTarget:s(n.node),largestShiftTime:t.startTime,largestShiftValue:t.value,largestShiftSource:n,largestShiftEntry:t,loadState:c(t.startTime)})}}var r;e.attribution={}}(t),e(t)}),t)},e.onFCP=function(e,t){R((function(t){!function(e){if(e.entries.length){var t=a(),n=e.entries[e.entries.length-1];if(t){var r=t.activationStart||0,i=Math.max(0,t.responseStart-r);return void(e.attribution={timeToFirstByte:i,firstByteToFCP:e.value-i,loadState:c(e.entries[0].startTime),navigationEntry:t,fcpEntry:n})}}e.attribution={timeToFirstByte:0,firstByteToFCP:e.value,loadState:c(d())}}(t),e(t)}),t)},e.onFID=function(e,t){D((function(t){!function(e){var t=e.entries[0];e.attribution={eventTarget:s(t.target),eventType:t.name,eventTime:t.startTime,eventEntry:t,loadState:c(t.startTime)}}(t),e(t)}),t)},e.onINP=function(e,t){!function(e,t){t=t||{},P((function(){var n;z();var r,i=p(\"INP\"),o=function(e){e.forEach((function(e){e.interactionId&&G(e),\"first-input\"===e.entryType&&!Q.some((function(t){return t.entries.some((function(t){return e.duration===t.duration&&e.startTime===t.startTime}))}))&&G(e)}));var t,n=(t=Math.min(Q.length-1,Math.floor(W()/50)),Q[t]);n&&n.latency!==i.value&&(i.value=n.latency,i.entries=n.entries,r())},a=m(\"event\",o,{durationThreshold:null!==(n=t.durationThreshold)&&void 0!==n?n:40});r=g(e,i,U,t.reportAllChanges),a&&(\"PerformanceEventTiming\"in window&&\"interactionId\"in PerformanceEventTiming.prototype&&a.observe({type:\"first-input\",buffered:!0}),h((function(){o(a.takeRecords()),i.value<0&&W()>0&&(i.value=0,i.entries=[]),r(!0)})),l((function(){Q=[],J=H(),i=p(\"INP\"),r=g(e,i,U,t.reportAllChanges)})))}))}((function(t){!function(e){if(e.entries.length){var t=e.entries.sort((function(e,t){return t.duration-e.duration||t.processingEnd-t.processingStart-(e.processingEnd-e.processingStart)}))[0],n=e.entries.find((function(e){return e.target}));e.attribution={eventTarget:s(n&&n.target),eventType:t.name,eventTime:t.startTime,eventEntry:t,loadState:c(t.startTime)}}else e.attribution={}}(t),e(t)}),t)},e.onLCP=function(e,t){!function(e,t){t=t||{},P((function(){var n,r=C(),i=p(\"LCP\"),o=function(e){var t=e[e.length-1];t&&t.startTime<r.firstHiddenTime&&(i.value=Math.max(t.startTime-v(),0),i.entries=[t],n())},a=m(\"largest-contentful-paint\",o);if(a){n=g(e,i,K,t.reportAllChanges);var c=T((function(){Y[i.id]||(o(a.takeRecords()),a.disconnect(),Y[i.id]=!0,n(!0))}));[\"keydown\",\"click\"].forEach((function(e){addEventListener(e,(function(){return setTimeout(c,0)}),!0)})),h(c),l((function(r){i=p(\"LCP\"),n=g(e,i,K,t.reportAllChanges),y((function(){i.value=performance.now()-r.timeStamp,Y[i.id]=!0,n(!0)}))}))}}))}((function(t){!function(e){if(e.entries.length){var t=a();if(t){var n=t.activationStart||0,r=e.entries[e.entries.length-1],i=r.url&&performance.getEntriesByType(\"resource\").filter((function(e){return e.name===r.url}))[0],o=Math.max(0,t.responseStart-n),c=Math.max(o,i?(i.requestStart||i.startTime)-n:0),u=Math.max(c,i?i.responseEnd-n:0),f=Math.max(u,r?r.startTime-n:0),d={element:s(r.element),timeToFirstByte:o,resourceLoadDelay:c-o,resourceLoadTime:u-c,elementRenderDelay:f-u,navigationEntry:t,lcpEntry:r};return r.url&&(d.url=r.url),i&&(d.lcpResourceEntry=i),void(e.attribution=d)}}e.attribution={timeToFirstByte:0,resourceLoadDelay:0,resourceLoadTime:0,elementRenderDelay:e.value}}(t),e(t)}),t)},e.onTTFB=function(e,t){ee((function(t){!function(e){if(e.entries.length){var t=e.entries[0],n=t.activationStart||0,r=Math.max(t.domainLookupStart-n,0),i=Math.max(t.connectStart-n,0),o=Math.max(t.requestStart-n,0);e.attribution={waitingTime:r,dnsTime:i-r,connectionTime:o-i,requestTime:e.value-o,navigationEntry:t}}else e.attribution={waitingTime:0,dnsTime:0,connectionTime:0,requestTime:0}}(t),e(t)}),t)}}(t)}},t={};!function n(r){var i=t[r];if(void 0!==i)return i.exports;var o=t[r]={exports:{}};return e[r].call(o.exports,o,o.exports,n),o.exports}(168)}();</script><!-- Cloudflare Pages Analytics --><script>(function(){function c(){var b=a.contentDocument||a.contentWindow.document;if(b){var d=b.createElement(\\'script\\');d.innerHTML=\"window.__CF$cv$params={r:\\'8e7a3a0beeb7de43\\',t:\\'MTczMjQ1OTk4OC4wMDAwMDA=\\'};var a=document.createElement(\\'script\\');a.nonce=\\'\\';a.src=\\'/cdn-cgi/challenge-platform/scripts/jsd/main.js\\';document.getElementsByTagName(\\'head\\')[0].appendChild(a);\";b.getElementsByTagName(\\'head\\')[0].appendChild(d)}}if(document.body){var a=document.createElement(\\'iframe\\');a.height=1;a.width=1;a.style.position=\\'absolute\\';a.style.top=0;a.style.left=0;a.style.border=\\'none\\';a.style.visibility=\\'hidden\\';document.body.appendChild(a);if(\\'loading\\'!==document.readyState)c();else if(window.addEventListener)document.addEventListener(\\'DOMContentLoaded\\',c);else{var e=document.onreadystatechange||function(){};document.onreadystatechange=function(b){e(b);\\'loading\\'!==document.readyState&&(document.onreadystatechange=e,c())}}}})();</script></body></html>'"
      ]
     },
     "execution_count": 174,
     "metadata": {},
     "output_type": "execute_result"
    }
   ],
   "source": [
    "resp.text"
   ]
  },
  {
   "cell_type": "code",
   "execution_count": 177,
   "metadata": {},
   "outputs": [
    {
     "data": {
      "text/plain": [
       "478"
      ]
     },
     "execution_count": 177,
     "metadata": {},
     "output_type": "execute_result"
    }
   ],
   "source": [
    "b =BeautifulSoup(resp.text)\n",
    "len(b.text)"
   ]
  },
  {
   "cell_type": "markdown",
   "metadata": {},
   "source": []
  }
 ],
 "metadata": {
  "kernelspec": {
   "display_name": "Python 3",
   "language": "python",
   "name": "python3"
  },
  "language_info": {
   "codemirror_mode": {
    "name": "ipython",
    "version": 3
   },
   "file_extension": ".py",
   "mimetype": "text/x-python",
   "name": "python",
   "nbconvert_exporter": "python",
   "pygments_lexer": "ipython3",
   "version": "3.12.7"
  }
 },
 "nbformat": 4,
 "nbformat_minor": 2
}
